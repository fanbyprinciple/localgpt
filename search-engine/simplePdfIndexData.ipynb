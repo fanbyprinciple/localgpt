{
 "cells": [
  {
   "cell_type": "code",
   "execution_count": 118,
   "metadata": {},
   "outputs": [
    {
     "name": "stdout",
     "output_type": "stream",
     "text": [
      "Requirement already satisfied: PyMuPDF in c:\\users\\aonno\\.conda\\envs\\localgpt\\lib\\site-packages (1.24.4)\n",
      "Requirement already satisfied: PyMuPDFb==1.24.3 in c:\\users\\aonno\\.conda\\envs\\localgpt\\lib\\site-packages (from PyMuPDF) (1.24.3)\n",
      "Note: you may need to restart the kernel to use updated packages.\n"
     ]
    }
   ],
   "source": [
    "%pip install PyMuPDF"
   ]
  },
  {
   "cell_type": "code",
   "execution_count": 119,
   "metadata": {},
   "outputs": [],
   "source": [
    "from elasticsearch import Elasticsearch\n",
    "import fitz\n",
    "import os"
   ]
  },
  {
   "cell_type": "code",
   "execution_count": 120,
   "metadata": {},
   "outputs": [
    {
     "data": {
      "text/plain": [
       "True"
      ]
     },
     "execution_count": 120,
     "metadata": {},
     "output_type": "execute_result"
    }
   ],
   "source": [
    "es = Elasticsearch(\n",
    "    \"https://localhost:9200\",\n",
    "    basic_auth=[\"elastic\",\"uolb_G+9wDf4UO+vF-y*\"],\n",
    "    ca_certs=\"D:\\\\elastic_search\\\\config\\\\certs\\\\http_ca.crt\"\n",
    ")\n",
    "\n",
    "es.ping()"
   ]
  },
  {
   "cell_type": "code",
   "execution_count": 121,
   "metadata": {},
   "outputs": [],
   "source": [
    "# Function to extract text from PDF\n",
    "def extract_text_from_pdf(pdf_path):\n",
    "    try:\n",
    "        doc = fitz.open(pdf_path)\n",
    "        text = \"\"\n",
    "        for page_num in range(len(doc)):\n",
    "            page = doc.load_page(page_num)\n",
    "            text += page.get_text()\n",
    "        return text\n",
    "    except Exception as e:\n",
    "        print(f\"Error extracting text from {pdf_path}: {e}\")\n",
    "        return \"Error getting the file\""
   ]
  },
  {
   "cell_type": "code",
   "execution_count": 122,
   "metadata": {},
   "outputs": [],
   "source": [
    "# Function to check if a file has already been ingested\n",
    "def is_file_ingested(file_name, es_client, es_index):\n",
    "    query = {\n",
    "        \"query\": {\n",
    "            \"term\": {\n",
    "                \"file_name.keyword\": file_name\n",
    "            }\n",
    "        }\n",
    "    }\n",
    "    res = es_client.search(index=es_index, body=query)\n",
    "    return len(res['hits']['hits']) > 0"
   ]
  },
  {
   "cell_type": "code",
   "execution_count": 123,
   "metadata": {},
   "outputs": [],
   "source": [
    "es_index = \"harry_potter\""
   ]
  },
  {
   "cell_type": "code",
   "execution_count": 124,
   "metadata": {},
   "outputs": [
    {
     "name": "stderr",
     "output_type": "stream",
     "text": [
      "  % Total    % Received % Xferd  Average Speed   Time    Time     Time  Current\n",
      "                                 Dload  Upload   Total   Spent    Left  Speed\n",
      "\n",
      "  0     0    0     0    0     0      0      0 --:--:-- --:--:-- --:--:--     0\n",
      "  0     0    0     0    0     0      0      0 --:--:-- --:--:-- --:--:--     0\n",
      "curl: (52) Empty reply from server\n",
      "  % Total    % Received % Xferd  Average Speed   Time    Time     Time  Current\n",
      "                                 Dload  Upload   Total   Spent    Left  Speed\n",
      "\n",
      "  0     0    0     0    0     0      0      0 --:--:-- --:--:-- --:--:--     0\n",
      "  0     0    0     0    0     0      0      0 --:--:-- --:--:-- --:--:--     0\n",
      "  0     0    0     0    0     0      0      0 --:--:--  0:00:01 --:--:--     0curl: (6) Could not resolve host: application\n"
     ]
    }
   ],
   "source": [
    "!curl -X PUT \"localhost:9200/harry_potter\" -H 'Content-Type: application/json'"
   ]
  },
  {
   "cell_type": "code",
   "execution_count": 125,
   "metadata": {},
   "outputs": [
    {
     "name": "stdout",
     "output_type": "stream",
     "text": [
      ".\\pdf\\harry_potter\n"
     ]
    }
   ],
   "source": [
    "print(pdf_folder)"
   ]
  },
  {
   "cell_type": "code",
   "execution_count": 126,
   "metadata": {},
   "outputs": [],
   "source": [
    "# Function to prepare data for Elasticsearch\n",
    "def prepare_data_for_elasticsearch(pdf_folder):\n",
    "    data_list = []\n",
    "    for root, _, files in os.walk(pdf_folder):\n",
    "        for file in files:\n",
    "            if file.lower().endswith('.pdf'):\n",
    "                if not is_file_ingested(file, es, es_index):\n",
    "                    pdf_path = os.path.join(root, file)\n",
    "                    print(file)\n",
    "                    text_content = extract_text_from_pdf(pdf_path)\n",
    "                    data = {\n",
    "                        \"file_name\": file,\n",
    "                        \"location\": pdf_path,\n",
    "                        \"content\": text_content\n",
    "                    }\n",
    "                    data_list.append(data)\n",
    "                else:\n",
    "                    print(\"file already ingested.Skipping\")\n",
    "    return data_list\n"
   ]
  },
  {
   "cell_type": "code",
   "execution_count": 127,
   "metadata": {},
   "outputs": [
    {
     "name": "stdout",
     "output_type": "stream",
     "text": [
      "harry_potter\n"
     ]
    }
   ],
   "source": [
    "print(es_index)"
   ]
  },
  {
   "cell_type": "code",
   "execution_count": 128,
   "metadata": {},
   "outputs": [],
   "source": [
    "# Function to index data into Elasticsearch\n",
    "def index_data_to_elasticsearch(data_list, es_index, es_client):\n",
    "    for data in data_list:\n",
    "        es_client.index(index=es_index, body=data)"
   ]
  },
  {
   "cell_type": "code",
   "execution_count": 129,
   "metadata": {},
   "outputs": [
    {
     "data": {
      "text/plain": [
       "True"
      ]
     },
     "execution_count": 129,
     "metadata": {},
     "output_type": "execute_result"
    }
   ],
   "source": [
    "es.ping()"
   ]
  },
  {
   "cell_type": "code",
   "execution_count": 130,
   "metadata": {},
   "outputs": [
    {
     "ename": "NotFoundError",
     "evalue": "NotFoundError(404, 'index_not_found_exception', 'no such index [harry_potter]', harry_potter, index_or_alias)",
     "output_type": "error",
     "traceback": [
      "\u001b[1;31m---------------------------------------------------------------------------\u001b[0m",
      "\u001b[1;31mNotFoundError\u001b[0m                             Traceback (most recent call last)",
      "Cell \u001b[1;32mIn[130], line 10\u001b[0m\n\u001b[0;32m      3\u001b[0m es_index \u001b[38;5;241m=\u001b[39m \u001b[38;5;124m\"\u001b[39m\u001b[38;5;124mharry_potter\u001b[39m\u001b[38;5;124m\"\u001b[39m \n\u001b[0;32m      5\u001b[0m \u001b[38;5;66;03m# Initialize Elasticsearch client\u001b[39;00m\n\u001b[0;32m      6\u001b[0m \u001b[38;5;66;03m# es_client = Elasticsearch([es_host])\u001b[39;00m\n\u001b[0;32m      7\u001b[0m \u001b[38;5;66;03m# es is es client\u001b[39;00m\n\u001b[0;32m      8\u001b[0m \n\u001b[0;32m      9\u001b[0m \u001b[38;5;66;03m# Extract data from PDFs and prepare for Elasticsearch\u001b[39;00m\n\u001b[1;32m---> 10\u001b[0m data_list \u001b[38;5;241m=\u001b[39m prepare_data_for_elasticsearch(pdf_folder)\n\u001b[0;32m     12\u001b[0m \u001b[38;5;66;03m# Index data into Elasticsearch\u001b[39;00m\n\u001b[0;32m     13\u001b[0m index_data_to_elasticsearch(data_list, es_index, es)\n",
      "Cell \u001b[1;32mIn[126], line 7\u001b[0m, in \u001b[0;36mprepare_data_for_elasticsearch\u001b[1;34m(pdf_folder)\u001b[0m\n\u001b[0;32m      5\u001b[0m \u001b[38;5;28;01mfor\u001b[39;00m file \u001b[38;5;129;01min\u001b[39;00m files:\n\u001b[0;32m      6\u001b[0m     \u001b[38;5;28;01mif\u001b[39;00m file\u001b[38;5;241m.\u001b[39mlower()\u001b[38;5;241m.\u001b[39mendswith(\u001b[38;5;124m'\u001b[39m\u001b[38;5;124m.pdf\u001b[39m\u001b[38;5;124m'\u001b[39m):\n\u001b[1;32m----> 7\u001b[0m         \u001b[38;5;28;01mif\u001b[39;00m \u001b[38;5;129;01mnot\u001b[39;00m is_file_ingested(file, es, es_index):\n\u001b[0;32m      8\u001b[0m             pdf_path \u001b[38;5;241m=\u001b[39m os\u001b[38;5;241m.\u001b[39mpath\u001b[38;5;241m.\u001b[39mjoin(root, file)\n\u001b[0;32m      9\u001b[0m             \u001b[38;5;28mprint\u001b[39m(file)\n",
      "Cell \u001b[1;32mIn[122], line 10\u001b[0m, in \u001b[0;36mis_file_ingested\u001b[1;34m(file_name, es_client, es_index)\u001b[0m\n\u001b[0;32m      2\u001b[0m \u001b[38;5;28;01mdef\u001b[39;00m \u001b[38;5;21mis_file_ingested\u001b[39m(file_name, es_client, es_index):\n\u001b[0;32m      3\u001b[0m     query \u001b[38;5;241m=\u001b[39m {\n\u001b[0;32m      4\u001b[0m         \u001b[38;5;124m\"\u001b[39m\u001b[38;5;124mquery\u001b[39m\u001b[38;5;124m\"\u001b[39m: {\n\u001b[0;32m      5\u001b[0m             \u001b[38;5;124m\"\u001b[39m\u001b[38;5;124mterm\u001b[39m\u001b[38;5;124m\"\u001b[39m: {\n\u001b[1;32m   (...)\u001b[0m\n\u001b[0;32m      8\u001b[0m         }\n\u001b[0;32m      9\u001b[0m     }\n\u001b[1;32m---> 10\u001b[0m     res \u001b[38;5;241m=\u001b[39m es_client\u001b[38;5;241m.\u001b[39msearch(index\u001b[38;5;241m=\u001b[39mes_index, body\u001b[38;5;241m=\u001b[39mquery)\n\u001b[0;32m     11\u001b[0m     \u001b[38;5;28;01mreturn\u001b[39;00m \u001b[38;5;28mlen\u001b[39m(res[\u001b[38;5;124m'\u001b[39m\u001b[38;5;124mhits\u001b[39m\u001b[38;5;124m'\u001b[39m][\u001b[38;5;124m'\u001b[39m\u001b[38;5;124mhits\u001b[39m\u001b[38;5;124m'\u001b[39m]) \u001b[38;5;241m>\u001b[39m \u001b[38;5;241m0\u001b[39m\n",
      "File \u001b[1;32mc:\\Users\\aonno\\.conda\\envs\\localgpt\\Lib\\site-packages\\elasticsearch\\_sync\\client\\utils.py:446\u001b[0m, in \u001b[0;36m_rewrite_parameters.<locals>.wrapper.<locals>.wrapped\u001b[1;34m(*args, **kwargs)\u001b[0m\n\u001b[0;32m    443\u001b[0m         \u001b[38;5;28;01mexcept\u001b[39;00m \u001b[38;5;167;01mKeyError\u001b[39;00m:\n\u001b[0;32m    444\u001b[0m             \u001b[38;5;28;01mpass\u001b[39;00m\n\u001b[1;32m--> 446\u001b[0m \u001b[38;5;28;01mreturn\u001b[39;00m api(\u001b[38;5;241m*\u001b[39margs, \u001b[38;5;241m*\u001b[39m\u001b[38;5;241m*\u001b[39mkwargs)\n",
      "File \u001b[1;32mc:\\Users\\aonno\\.conda\\envs\\localgpt\\Lib\\site-packages\\elasticsearch\\_sync\\client\\__init__.py:4112\u001b[0m, in \u001b[0;36mElasticsearch.search\u001b[1;34m(self, index, aggregations, aggs, allow_no_indices, allow_partial_search_results, analyze_wildcard, analyzer, batched_reduce_size, ccs_minimize_roundtrips, collapse, default_operator, df, docvalue_fields, error_trace, expand_wildcards, explain, ext, fields, filter_path, force_synthetic_source, from_, highlight, human, ignore_throttled, ignore_unavailable, indices_boost, knn, lenient, max_concurrent_shard_requests, min_compatible_shard_node, min_score, pit, post_filter, pre_filter_shard_size, preference, pretty, profile, q, query, rank, request_cache, rescore, rest_total_hits_as_int, routing, runtime_mappings, script_fields, scroll, search_after, search_type, seq_no_primary_term, size, slice, sort, source, source_excludes, source_includes, stats, stored_fields, suggest, suggest_field, suggest_mode, suggest_size, suggest_text, terminate_after, timeout, track_scores, track_total_hits, typed_keys, version, body)\u001b[0m\n\u001b[0;32m   4110\u001b[0m \u001b[38;5;28;01mif\u001b[39;00m __body \u001b[38;5;129;01mis\u001b[39;00m \u001b[38;5;129;01mnot\u001b[39;00m \u001b[38;5;28;01mNone\u001b[39;00m:\n\u001b[0;32m   4111\u001b[0m     __headers[\u001b[38;5;124m\"\u001b[39m\u001b[38;5;124mcontent-type\u001b[39m\u001b[38;5;124m\"\u001b[39m] \u001b[38;5;241m=\u001b[39m \u001b[38;5;124m\"\u001b[39m\u001b[38;5;124mapplication/json\u001b[39m\u001b[38;5;124m\"\u001b[39m\n\u001b[1;32m-> 4112\u001b[0m \u001b[38;5;28;01mreturn\u001b[39;00m \u001b[38;5;28mself\u001b[39m\u001b[38;5;241m.\u001b[39mperform_request(  \u001b[38;5;66;03m# type: ignore[return-value]\u001b[39;00m\n\u001b[0;32m   4113\u001b[0m     \u001b[38;5;124m\"\u001b[39m\u001b[38;5;124mPOST\u001b[39m\u001b[38;5;124m\"\u001b[39m,\n\u001b[0;32m   4114\u001b[0m     __path,\n\u001b[0;32m   4115\u001b[0m     params\u001b[38;5;241m=\u001b[39m__query,\n\u001b[0;32m   4116\u001b[0m     headers\u001b[38;5;241m=\u001b[39m__headers,\n\u001b[0;32m   4117\u001b[0m     body\u001b[38;5;241m=\u001b[39m__body,\n\u001b[0;32m   4118\u001b[0m     endpoint_id\u001b[38;5;241m=\u001b[39m\u001b[38;5;124m\"\u001b[39m\u001b[38;5;124msearch\u001b[39m\u001b[38;5;124m\"\u001b[39m,\n\u001b[0;32m   4119\u001b[0m     path_parts\u001b[38;5;241m=\u001b[39m__path_parts,\n\u001b[0;32m   4120\u001b[0m )\n",
      "File \u001b[1;32mc:\\Users\\aonno\\.conda\\envs\\localgpt\\Lib\\site-packages\\elasticsearch\\_sync\\client\\_base.py:271\u001b[0m, in \u001b[0;36mBaseClient.perform_request\u001b[1;34m(self, method, path, params, headers, body, endpoint_id, path_parts)\u001b[0m\n\u001b[0;32m    255\u001b[0m \u001b[38;5;28;01mdef\u001b[39;00m \u001b[38;5;21mperform_request\u001b[39m(\n\u001b[0;32m    256\u001b[0m     \u001b[38;5;28mself\u001b[39m,\n\u001b[0;32m    257\u001b[0m     method: \u001b[38;5;28mstr\u001b[39m,\n\u001b[1;32m   (...)\u001b[0m\n\u001b[0;32m    264\u001b[0m     path_parts: Optional[Mapping[\u001b[38;5;28mstr\u001b[39m, Any]] \u001b[38;5;241m=\u001b[39m \u001b[38;5;28;01mNone\u001b[39;00m,\n\u001b[0;32m    265\u001b[0m ) \u001b[38;5;241m-\u001b[39m\u001b[38;5;241m>\u001b[39m ApiResponse[Any]:\n\u001b[0;32m    266\u001b[0m     \u001b[38;5;28;01mwith\u001b[39;00m \u001b[38;5;28mself\u001b[39m\u001b[38;5;241m.\u001b[39m_otel\u001b[38;5;241m.\u001b[39mspan(\n\u001b[0;32m    267\u001b[0m         method,\n\u001b[0;32m    268\u001b[0m         endpoint_id\u001b[38;5;241m=\u001b[39mendpoint_id,\n\u001b[0;32m    269\u001b[0m         path_parts\u001b[38;5;241m=\u001b[39mpath_parts \u001b[38;5;129;01mor\u001b[39;00m {},\n\u001b[0;32m    270\u001b[0m     ) \u001b[38;5;28;01mas\u001b[39;00m otel_span:\n\u001b[1;32m--> 271\u001b[0m         response \u001b[38;5;241m=\u001b[39m \u001b[38;5;28mself\u001b[39m\u001b[38;5;241m.\u001b[39m_perform_request(\n\u001b[0;32m    272\u001b[0m             method,\n\u001b[0;32m    273\u001b[0m             path,\n\u001b[0;32m    274\u001b[0m             params\u001b[38;5;241m=\u001b[39mparams,\n\u001b[0;32m    275\u001b[0m             headers\u001b[38;5;241m=\u001b[39mheaders,\n\u001b[0;32m    276\u001b[0m             body\u001b[38;5;241m=\u001b[39mbody,\n\u001b[0;32m    277\u001b[0m             otel_span\u001b[38;5;241m=\u001b[39motel_span,\n\u001b[0;32m    278\u001b[0m         )\n\u001b[0;32m    279\u001b[0m         otel_span\u001b[38;5;241m.\u001b[39mset_elastic_cloud_metadata(response\u001b[38;5;241m.\u001b[39mmeta\u001b[38;5;241m.\u001b[39mheaders)\n\u001b[0;32m    280\u001b[0m         \u001b[38;5;28;01mreturn\u001b[39;00m response\n",
      "File \u001b[1;32mc:\\Users\\aonno\\.conda\\envs\\localgpt\\Lib\\site-packages\\elasticsearch\\_sync\\client\\_base.py:352\u001b[0m, in \u001b[0;36mBaseClient._perform_request\u001b[1;34m(self, method, path, params, headers, body, otel_span)\u001b[0m\n\u001b[0;32m    349\u001b[0m         \u001b[38;5;28;01mexcept\u001b[39;00m (\u001b[38;5;167;01mValueError\u001b[39;00m, \u001b[38;5;167;01mKeyError\u001b[39;00m, \u001b[38;5;167;01mTypeError\u001b[39;00m):\n\u001b[0;32m    350\u001b[0m             \u001b[38;5;28;01mpass\u001b[39;00m\n\u001b[1;32m--> 352\u001b[0m     \u001b[38;5;28;01mraise\u001b[39;00m HTTP_EXCEPTIONS\u001b[38;5;241m.\u001b[39mget(meta\u001b[38;5;241m.\u001b[39mstatus, ApiError)(\n\u001b[0;32m    353\u001b[0m         message\u001b[38;5;241m=\u001b[39mmessage, meta\u001b[38;5;241m=\u001b[39mmeta, body\u001b[38;5;241m=\u001b[39mresp_body\n\u001b[0;32m    354\u001b[0m     )\n\u001b[0;32m    356\u001b[0m \u001b[38;5;66;03m# 'X-Elastic-Product: Elasticsearch' should be on every 2XX response.\u001b[39;00m\n\u001b[0;32m    357\u001b[0m \u001b[38;5;28;01mif\u001b[39;00m \u001b[38;5;129;01mnot\u001b[39;00m \u001b[38;5;28mself\u001b[39m\u001b[38;5;241m.\u001b[39m_verified_elasticsearch:\n\u001b[0;32m    358\u001b[0m     \u001b[38;5;66;03m# If the header is set we mark the server as verified.\u001b[39;00m\n",
      "\u001b[1;31mNotFoundError\u001b[0m: NotFoundError(404, 'index_not_found_exception', 'no such index [harry_potter]', harry_potter, index_or_alias)"
     ]
    }
   ],
   "source": [
    "pdf_folder = \".\\\\pdf\\\\harry_potter\" \n",
    "es_host = \"http://localhost:9200\"  \n",
    "es_index = \"harry_potter\" \n",
    "\n",
    "# Initialize Elasticsearch client\n",
    "# es_client = Elasticsearch([es_host])\n",
    "# es is es client\n",
    "\n",
    "# Extract data from PDFs and prepare for Elasticsearch\n",
    "data_list = prepare_data_for_elasticsearch(pdf_folder)\n",
    "\n",
    "# Index data into Elasticsearch\n",
    "index_data_to_elasticsearch(data_list, es_index, es)\n",
    "\n",
    "print(f\"Indexed {len(data_list)} documents into Elasticsearch index '{es_index}'.\")\n"
   ]
  },
  {
   "cell_type": "code",
   "execution_count": null,
   "metadata": {},
   "outputs": [],
   "source": [
    "# ### creta new index in elastic search\n",
    "# from indexMapping import indexMapping\n",
    "# try:\n",
    "#     es.indices.create(index=\"all_products\", mappings=indexMapping)\n",
    "# except Exception as e:\n",
    "#     print(e)"
   ]
  },
  {
   "cell_type": "code",
   "execution_count": null,
   "metadata": {},
   "outputs": [
    {
     "name": "stdout",
     "output_type": "stream",
     "text": [
      "[{'_index': 'pdf_documents', '_id': 'ZuiHuI8Bs1_zjc2DYj5K', '_score': 1.078742, '_source': {'file_name': 'Institution of Safety Alert Signal.pdf', 'location': '.\\\\pdf\\\\Safety Policy PDF Scan Files\\\\Safety Policy Letters\\\\Institution of Safety Alert Signal.pdf', 'content': ' \\n \\n \\n \\n \\n \\n'}}, {'_index': 'pdf_documents', '_id': 'auiHuI8Bs1_zjc2DYj5q', '_score': 1.078742, '_source': {'file_name': 'Safety related orders policies SOP.pdf', 'location': '.\\\\pdf\\\\Safety Policy PDF Scan Files\\\\Safety Policy Letters\\\\Safety related orders policies SOP.pdf', 'content': ' \\n \\n \\n \\n'}}, {'_index': 'pdf_documents', '_id': 'uuiHuI8Bs1_zjc2DSz2j', '_score': 1.0707239, '_source': {'file_name': 'Conduct of Safety Audits HQSNC letter Safety 8040 6 dated 08 May 15.pdf', 'location': '.\\\\pdf\\\\Safety Policy PDF Scan Files\\\\Conduct of Safety Audits HQSNC letter Safety 8040 6 dated 08 May 15.pdf', 'content': ''}}, {'_index': 'pdf_documents', '_id': '5OiHuI8Bs1_zjc2DUT1_', '_score': 0.9848249, '_source': {'file_name': 'INBR on Safety 21 Dec 18.pdf', 'location': '.\\\\pdf\\\\Safety Policy PDF Scan Files\\\\INBR on Safety 21 Dec 18.pdf', 'content': ''}}, {'_index': 'pdf_documents', '_id': 'xOiHuI8Bs1_zjc2DTT1e', '_score': 0.97813785, '_source': {'file_name': 'FORWARDING OF POLICY DIRECTIVES AND SAFETY ADVISORIES TO HQ ST LETTER 703 SAFETY DATED 08 JUN 21.pdf', 'location': '.\\\\pdf\\\\Safety Policy PDF Scan Files\\\\FORWARDING OF POLICY DIRECTIVES AND SAFETY ADVISORIES TO HQ ST LETTER 703 SAFETY DATED 08 JUN 21.pdf', 'content': ''}}, {'_index': 'pdf_documents', '_id': 'A-iHuI8Bs1_zjc2DVD5F', '_score': 0.97813785, '_source': {'file_name': 'Safety Reports Returns to be rendered by Units HQSNC letter Safety 8040 6 dated 03 Feb 15.pdf', 'location': '.\\\\pdf\\\\Safety Policy PDF Scan Files\\\\Safety Reports Returns to be rendered by Units HQSNC letter Safety 8040 6 dated 03 Feb 15.pdf', 'content': ''}}, {'_index': 'pdf_documents', '_id': 'DeiHuI8Bs1_zjc2DVT6m', '_score': 0.97813785, '_source': {'file_name': 'workup of Safety audit ISVs IHQ MoD(N) letter OP SAFETY 5106 SA dated 05 May 17.pdf', 'location': '.\\\\pdf\\\\Safety Policy PDF Scan Files\\\\workup of Safety audit ISVs IHQ MoD(N) letter OP SAFETY 5106 SA dated 05 May 17.pdf', 'content': ''}}, {'_index': 'pdf_documents', '_id': 'veiHuI8Bs1_zjc2DTD2y', '_score': 0.95744026, '_source': {'file_name': 'DNO LETTER, PAN NAVY PENETRATION OF SAFETY ALERT SIGNALS AND STANDARDISATION OF SAFETY ADVISORIES DATED 18 JAN 24.pdf', 'location': '.\\\\pdf\\\\Safety Policy PDF Scan Files\\\\DNO LETTER, PAN NAVY PENETRATION OF SAFETY ALERT SIGNALS AND STANDARDISATION OF SAFETY ADVISORIES DATED 18 JAN 24.pdf', 'content': ''}}, {'_index': 'pdf_documents', '_id': 'BuiHuI8Bs1_zjc2DVD7z', '_score': 0.95744026, '_source': {'file_name': 'SNC General Order 05 14 dated 07 Apr 14 Conduct of Safety Audits by Command Level Safety Audit Team.pdf', 'location': '.\\\\pdf\\\\Safety Policy PDF Scan Files\\\\SNC General Order 05 14 dated 07 Apr 14 Conduct of Safety Audits by Command Level Safety Audit Team.pdf', 'content': ''}}, {'_index': 'pdf_documents', '_id': 'x-iHuI8Bs1_zjc2DTj1s', '_score': 0.94374305, '_source': {'file_name': 'Half Yearly Feedback Safety Org Jul 19.pdf', 'location': '.\\\\pdf\\\\Safety Policy PDF Scan Files\\\\Half Yearly Feedback Safety Org Jul 19.pdf', 'content': ''}}]\n"
     ]
    }
   ],
   "source": [
    "input_search_term = \"Safety\"\n",
    "# print(\"searching...\")\n",
    "# print(vector_of_input_keyword)\n",
    "\n",
    "body = {\n",
    "        \"query\": {\n",
    "            \"multi_match\": {\n",
    "                \"query\": input_search_term,\n",
    "                \"fields\": [\"content\", \"file_name\"]\n",
    "            }\n",
    "        },\n",
    "       }\n",
    "res = es.search(index=es_index, body=body)\n",
    "\n",
    "results = res[\"hits\"][\"hits\"]\n",
    "print(results)\n"
   ]
  }
 ],
 "metadata": {
  "kernelspec": {
   "display_name": "localgpt",
   "language": "python",
   "name": "python3"
  },
  "language_info": {
   "codemirror_mode": {
    "name": "ipython",
    "version": 3
   },
   "file_extension": ".py",
   "mimetype": "text/x-python",
   "name": "python",
   "nbconvert_exporter": "python",
   "pygments_lexer": "ipython3",
   "version": "3.12.3"
  }
 },
 "nbformat": 4,
 "nbformat_minor": 2
}
