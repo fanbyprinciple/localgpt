{
 "cells": [
  {
   "cell_type": "code",
   "execution_count": 38,
   "metadata": {},
   "outputs": [
    {
     "name": "stdout",
     "output_type": "stream",
     "text": [
      "Requirement already satisfied: PyMuPDF in c:\\users\\aonno\\.conda\\envs\\localgpt\\lib\\site-packages (1.24.4)Note: you may need to restart the kernel to use updated packages.\n",
      "\n",
      "Requirement already satisfied: PyMuPDFb==1.24.3 in c:\\users\\aonno\\.conda\\envs\\localgpt\\lib\\site-packages (from PyMuPDF) (1.24.3)\n"
     ]
    }
   ],
   "source": [
    "%pip install PyMuPDF"
   ]
  },
  {
   "cell_type": "code",
   "execution_count": 39,
   "metadata": {},
   "outputs": [],
   "source": [
    "from elasticsearch import Elasticsearch\n",
    "import fitz\n",
    "import os"
   ]
  },
  {
   "cell_type": "code",
   "execution_count": 40,
   "metadata": {},
   "outputs": [
    {
     "data": {
      "text/plain": [
       "True"
      ]
     },
     "execution_count": 40,
     "metadata": {},
     "output_type": "execute_result"
    }
   ],
   "source": [
    "es = Elasticsearch(\n",
    "    \"https://localhost:9200\",\n",
    "    basic_auth=[\"elastic\",\"uxVFMV452qfPJkXeYlVW\"],\n",
    "    ca_certs=\"C:\\\\Users\\\\aonno\\\\Downloads\\\\elasticsearch-8.13.4-windows-x86_64\\\\elasticsearch-8.13.4\\\\config\\\\certs\\\\http_ca.crt\"\n",
    ")\n",
    "\n",
    "es.ping()"
   ]
  },
  {
   "cell_type": "code",
   "execution_count": 41,
   "metadata": {},
   "outputs": [],
   "source": [
    "# Function to extract text from PDF\n",
    "def extract_text_from_pdf(pdf_path):\n",
    "    try:\n",
    "        doc = fitz.open(pdf_path)\n",
    "        text = \"\"\n",
    "        for page_num in range(len(doc)):\n",
    "            page = doc.load_page(page_num)\n",
    "            text += page.get_text()\n",
    "        return text\n",
    "    except Exception as e:\n",
    "        print(f\"Error extracting text from {pdf_path}: {e}\")\n",
    "        return \"Error getting the file\""
   ]
  },
  {
   "cell_type": "code",
   "execution_count": 42,
   "metadata": {},
   "outputs": [],
   "source": [
    "# Function to check if a file has already been ingested\n",
    "def is_file_ingested(file_name, es_client, es_index):\n",
    "    query = {\n",
    "        \"query\": {\n",
    "            \"term\": {\n",
    "                \"file_name.keyword\": file_name\n",
    "            }\n",
    "        }\n",
    "    }\n",
    "    res = es_client.search(index=es_index, body=query)\n",
    "    return len(res['hits']['hits']) > 0"
   ]
  },
  {
   "cell_type": "code",
   "execution_count": 43,
   "metadata": {},
   "outputs": [],
   "source": [
    "es_index = \"pdf_documents\""
   ]
  },
  {
   "cell_type": "code",
   "execution_count": 44,
   "metadata": {},
   "outputs": [],
   "source": [
    "# Function to prepare data for Elasticsearch\n",
    "def prepare_data_for_elasticsearch(pdf_folder):\n",
    "    data_list = []\n",
    "    for root, _, files in os.walk(pdf_folder):\n",
    "        for file in files:\n",
    "            if file.lower().endswith('.pdf'):\n",
    "                if not is_file_ingested(file, es, es_index):\n",
    "                    pdf_path = os.path.join(root, file)\n",
    "                    text_content = extract_text_from_pdf(pdf_path)\n",
    "                    data = {\n",
    "                        \"file_name\": file,\n",
    "                        \"location\": pdf_path,\n",
    "                        \"content\": text_content\n",
    "                    }\n",
    "                    data_list.append(data)\n",
    "                else:\n",
    "                    print(\"file already ingested.Skipping\")\n",
    "    return data_list\n"
   ]
  },
  {
   "cell_type": "code",
   "execution_count": 45,
   "metadata": {},
   "outputs": [],
   "source": [
    "# Function to index data into Elasticsearch\n",
    "def index_data_to_elasticsearch(data_list, es_index, es_client):\n",
    "    for data in data_list:\n",
    "        es_client.index(index=es_index, body=data)"
   ]
  },
  {
   "cell_type": "code",
   "execution_count": 46,
   "metadata": {},
   "outputs": [
    {
     "data": {
      "text/plain": [
       "True"
      ]
     },
     "execution_count": 46,
     "metadata": {},
     "output_type": "execute_result"
    }
   ],
   "source": [
    "es.ping()"
   ]
  },
  {
   "cell_type": "code",
   "execution_count": 47,
   "metadata": {},
   "outputs": [
    {
     "name": "stderr",
     "output_type": "stream",
     "text": [
      "<>:1: SyntaxWarning: invalid escape sequence '\\p'\n",
      "<>:1: SyntaxWarning: invalid escape sequence '\\p'\n",
      "C:\\Users\\aonno\\AppData\\Local\\Temp\\ipykernel_29940\\3510188874.py:1: SyntaxWarning: invalid escape sequence '\\p'\n",
      "  pdf_folder = \".\\pdf\"  # Replace with the path to your PDF folder\n"
     ]
    },
    {
     "name": "stdout",
     "output_type": "stream",
     "text": [
      "file already ingested.Skipping\n",
      "Error extracting text from .\\pdf\\Safety Policy PDF Scan Files\\~$ ST Policy on Amplifying Order Safety Organisation Onboard Ships - 10 Aug 21.pdf: Failed to open file '.\\\\pdf\\\\Safety Policy PDF Scan Files\\\\~$ ST Policy on Amplifying Order Safety Organisation Onboard Ships - 10 Aug 21.pdf'.\n",
      "Error extracting text from .\\pdf\\Safety Policy PDF Scan Files\\Policy Guidelines Letter from all Department 2021\\Hull Implementation Policies- For Safety Dept 21 Jan 21\\30    H-113, POLICY ON INTEGRATED SEWAGE TREATMENT, VACUUM TOILET AND HYDROGEN SULPHIDE GAS DETECTION & ALARM SYSTEMS NCD 3930, ISSUE 3.pdf: no such file: '.\\pdf\\Safety Policy PDF Scan Files\\Policy Guidelines Letter from all Department 2021\\Hull Implementation Policies- For Safety Dept 21 Jan 21\\30    H-113, POLICY ON INTEGRATED SEWAGE TREATMENT, VACUUM TOILET AND HYDROGEN SULPHIDE GAS DETECTION & ALARM SYSTEMS NCD 3930, ISSUE 3.pdf'\n",
      "Error extracting text from .\\pdf\\Safety Policy PDF Scan Files\\Policy Guidelines Letter from all Department 2021\\Hull Implementation Policies- For Safety Dept 21 Jan 21\\92   GUIDELINE SPECIFICATION FOR HABITABILITY UPGRADATION AND MODULAR ACOMMODATION WORKS ONBOARD IN SHIPS.pdf: no such file: '.\\pdf\\Safety Policy PDF Scan Files\\Policy Guidelines Letter from all Department 2021\\Hull Implementation Policies- For Safety Dept 21 Jan 21\\92   GUIDELINE SPECIFICATION FOR HABITABILITY UPGRADATION AND MODULAR ACOMMODATION WORKS ONBOARD IN SHIPS.pdf'\n",
      "Error extracting text from .\\pdf\\Safety Policy PDF Scan Files\\Policy Guidelines Letter from all Department 2021\\List of Management from FOST site Work inprogress\\References to be read in counjunction with Safety Check Lists  List of Management of Change Policy Letters.pdf: no such file: '.\\pdf\\Safety Policy PDF Scan Files\\Policy Guidelines Letter from all Department 2021\\List of Management from FOST site Work inprogress\\References to be read in counjunction with Safety Check Lists  List of Management of Change Policy Letters.pdf'\n",
      "Indexed 206 documents into Elasticsearch index 'pdf_documents'.\n"
     ]
    }
   ],
   "source": [
    "pdf_folder = \".\\pdf\"  # Replace with the path to your PDF folder\n",
    "es_host = \"http://localhost:9200\"  # Replace with your Elasticsearch host\n",
    "es_index = \"pdf_documents\"  # Replace with your Elasticsearch index name\n",
    "\n",
    "# Initialize Elasticsearch client\n",
    "# es_client = Elasticsearch([es_host])\n",
    "# es is es client\n",
    "\n",
    "# Extract data from PDFs and prepare for Elasticsearch\n",
    "data_list = prepare_data_for_elasticsearch(pdf_folder)\n",
    "\n",
    "# Index data into Elasticsearch\n",
    "index_data_to_elasticsearch(data_list, es_index, es)\n",
    "\n",
    "print(f\"Indexed {len(data_list)} documents into Elasticsearch index '{es_index}'.\")\n"
   ]
  },
  {
   "cell_type": "code",
   "execution_count": 48,
   "metadata": {},
   "outputs": [],
   "source": [
    "# ### creta new index in elastic search\n",
    "# from indexMapping import indexMapping\n",
    "# try:\n",
    "#     es.indices.create(index=\"all_products\", mappings=indexMapping)\n",
    "# except Exception as e:\n",
    "#     print(e)"
   ]
  },
  {
   "cell_type": "code",
   "execution_count": 50,
   "metadata": {},
   "outputs": [
    {
     "name": "stdout",
     "output_type": "stream",
     "text": [
      "[{'_index': 'pdf_documents', '_id': 'ZuiHuI8Bs1_zjc2DYj5K', '_score': 1.078742, '_source': {'file_name': 'Institution of Safety Alert Signal.pdf', 'location': '.\\\\pdf\\\\Safety Policy PDF Scan Files\\\\Safety Policy Letters\\\\Institution of Safety Alert Signal.pdf', 'content': ' \\n \\n \\n \\n \\n \\n'}}, {'_index': 'pdf_documents', '_id': 'auiHuI8Bs1_zjc2DYj5q', '_score': 1.078742, '_source': {'file_name': 'Safety related orders policies SOP.pdf', 'location': '.\\\\pdf\\\\Safety Policy PDF Scan Files\\\\Safety Policy Letters\\\\Safety related orders policies SOP.pdf', 'content': ' \\n \\n \\n \\n'}}, {'_index': 'pdf_documents', '_id': 'uuiHuI8Bs1_zjc2DSz2j', '_score': 1.0707239, '_source': {'file_name': 'Conduct of Safety Audits HQSNC letter Safety 8040 6 dated 08 May 15.pdf', 'location': '.\\\\pdf\\\\Safety Policy PDF Scan Files\\\\Conduct of Safety Audits HQSNC letter Safety 8040 6 dated 08 May 15.pdf', 'content': ''}}, {'_index': 'pdf_documents', '_id': '5OiHuI8Bs1_zjc2DUT1_', '_score': 0.9848249, '_source': {'file_name': 'INBR on Safety 21 Dec 18.pdf', 'location': '.\\\\pdf\\\\Safety Policy PDF Scan Files\\\\INBR on Safety 21 Dec 18.pdf', 'content': ''}}, {'_index': 'pdf_documents', '_id': 'xOiHuI8Bs1_zjc2DTT1e', '_score': 0.97813785, '_source': {'file_name': 'FORWARDING OF POLICY DIRECTIVES AND SAFETY ADVISORIES TO HQ ST LETTER 703 SAFETY DATED 08 JUN 21.pdf', 'location': '.\\\\pdf\\\\Safety Policy PDF Scan Files\\\\FORWARDING OF POLICY DIRECTIVES AND SAFETY ADVISORIES TO HQ ST LETTER 703 SAFETY DATED 08 JUN 21.pdf', 'content': ''}}, {'_index': 'pdf_documents', '_id': 'A-iHuI8Bs1_zjc2DVD5F', '_score': 0.97813785, '_source': {'file_name': 'Safety Reports Returns to be rendered by Units HQSNC letter Safety 8040 6 dated 03 Feb 15.pdf', 'location': '.\\\\pdf\\\\Safety Policy PDF Scan Files\\\\Safety Reports Returns to be rendered by Units HQSNC letter Safety 8040 6 dated 03 Feb 15.pdf', 'content': ''}}, {'_index': 'pdf_documents', '_id': 'DeiHuI8Bs1_zjc2DVT6m', '_score': 0.97813785, '_source': {'file_name': 'workup of Safety audit ISVs IHQ MoD(N) letter OP SAFETY 5106 SA dated 05 May 17.pdf', 'location': '.\\\\pdf\\\\Safety Policy PDF Scan Files\\\\workup of Safety audit ISVs IHQ MoD(N) letter OP SAFETY 5106 SA dated 05 May 17.pdf', 'content': ''}}, {'_index': 'pdf_documents', '_id': 'veiHuI8Bs1_zjc2DTD2y', '_score': 0.95744026, '_source': {'file_name': 'DNO LETTER, PAN NAVY PENETRATION OF SAFETY ALERT SIGNALS AND STANDARDISATION OF SAFETY ADVISORIES DATED 18 JAN 24.pdf', 'location': '.\\\\pdf\\\\Safety Policy PDF Scan Files\\\\DNO LETTER, PAN NAVY PENETRATION OF SAFETY ALERT SIGNALS AND STANDARDISATION OF SAFETY ADVISORIES DATED 18 JAN 24.pdf', 'content': ''}}, {'_index': 'pdf_documents', '_id': 'BuiHuI8Bs1_zjc2DVD7z', '_score': 0.95744026, '_source': {'file_name': 'SNC General Order 05 14 dated 07 Apr 14 Conduct of Safety Audits by Command Level Safety Audit Team.pdf', 'location': '.\\\\pdf\\\\Safety Policy PDF Scan Files\\\\SNC General Order 05 14 dated 07 Apr 14 Conduct of Safety Audits by Command Level Safety Audit Team.pdf', 'content': ''}}, {'_index': 'pdf_documents', '_id': 'x-iHuI8Bs1_zjc2DTj1s', '_score': 0.94374305, '_source': {'file_name': 'Half Yearly Feedback Safety Org Jul 19.pdf', 'location': '.\\\\pdf\\\\Safety Policy PDF Scan Files\\\\Half Yearly Feedback Safety Org Jul 19.pdf', 'content': ''}}]\n"
     ]
    }
   ],
   "source": [
    "input_search_term = \"Safety\"\n",
    "# print(\"searching...\")\n",
    "# print(vector_of_input_keyword)\n",
    "\n",
    "body = {\n",
    "        \"query\": {\n",
    "            \"multi_match\": {\n",
    "                \"query\": input_search_term,\n",
    "                \"fields\": [\"content\", \"file_name\"]\n",
    "            }\n",
    "        },\n",
    "       }\n",
    "res = es.search(index=es_index, body=body)\n",
    "\n",
    "results = res[\"hits\"][\"hits\"]\n",
    "print(results)\n"
   ]
  }
 ],
 "metadata": {
  "kernelspec": {
   "display_name": "localgpt",
   "language": "python",
   "name": "python3"
  },
  "language_info": {
   "codemirror_mode": {
    "name": "ipython",
    "version": 3
   },
   "file_extension": ".py",
   "mimetype": "text/x-python",
   "name": "python",
   "nbconvert_exporter": "python",
   "pygments_lexer": "ipython3",
   "version": "3.12.3"
  }
 },
 "nbformat": 4,
 "nbformat_minor": 2
}
