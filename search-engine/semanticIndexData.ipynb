{
 "cells": [
  {
   "cell_type": "code",
   "execution_count": 42,
   "metadata": {},
   "outputs": [
    {
     "name": "stdout",
     "output_type": "stream",
     "text": [
      "Requirement already satisfied: PyMuPDF in c:\\users\\aonno\\.conda\\envs\\localgpt\\lib\\site-packages (1.24.4)Note: you may need to restart the kernel to use updated packages.\n",
      "\n",
      "Requirement already satisfied: PyMuPDFb==1.24.3 in c:\\users\\aonno\\.conda\\envs\\localgpt\\lib\\site-packages (from PyMuPDF) (1.24.3)\n"
     ]
    }
   ],
   "source": [
    "%pip install PyMuPDF"
   ]
  },
  {
   "cell_type": "code",
   "execution_count": 57,
   "metadata": {},
   "outputs": [
    {
     "name": "stdout",
     "output_type": "stream",
     "text": [
      "Requirement already satisfied: flask in c:\\users\\aonno\\.conda\\envs\\localgpt\\lib\\site-packages (3.0.3)\n",
      "Requirement already satisfied: Werkzeug>=3.0.0 in c:\\users\\aonno\\.conda\\envs\\localgpt\\lib\\site-packages (from flask) (3.0.3)\n",
      "Requirement already satisfied: Jinja2>=3.1.2 in c:\\users\\aonno\\appdata\\roaming\\python\\python312\\site-packages (from flask) (3.1.3)\n",
      "Requirement already satisfied: itsdangerous>=2.1.2 in c:\\users\\aonno\\.conda\\envs\\localgpt\\lib\\site-packages (from flask) (2.2.0)\n",
      "Requirement already satisfied: click>=8.1.3 in c:\\users\\aonno\\.conda\\envs\\localgpt\\lib\\site-packages (from flask) (8.1.7)\n",
      "Requirement already satisfied: blinker>=1.6.2 in c:\\users\\aonno\\.conda\\envs\\localgpt\\lib\\site-packages (from flask) (1.6.2)\n",
      "Requirement already satisfied: colorama in c:\\users\\aonno\\appdata\\roaming\\python\\python312\\site-packages (from click>=8.1.3->flask) (0.4.6)\n",
      "Requirement already satisfied: MarkupSafe>=2.0 in c:\\users\\aonno\\appdata\\roaming\\python\\python312\\site-packages (from Jinja2>=3.1.2->flask) (2.1.5)\n",
      "Note: you may need to restart the kernel to use updated packages.\n",
      "Requirement already satisfied: watchdog in c:\\users\\aonno\\.conda\\envs\\localgpt\\lib\\site-packages (2.1.6)\n",
      "Collecting watchdog\n",
      "  Downloading watchdog-4.0.1-py3-none-win_amd64.whl.metadata (37 kB)\n",
      "Downloading watchdog-4.0.1-py3-none-win_amd64.whl (83 kB)\n",
      "   ---------------------------------------- 0.0/83.0 kB ? eta -:--:--\n",
      "   ---------------------------------------- 83.0/83.0 kB 1.5 MB/s eta 0:00:00\n",
      "Installing collected packages: watchdog\n",
      "  Attempting uninstall: watchdog\n",
      "    Found existing installation: watchdog 2.1.6\n",
      "    Uninstalling watchdog-2.1.6:\n",
      "      Successfully uninstalled watchdog-2.1.6\n",
      "Successfully installed watchdog-4.0.1\n",
      "Note: you may need to restart the kernel to use updated packages.\n"
     ]
    }
   ],
   "source": [
    "%pip install flask\n",
    "%pip install --upgrade watchdog"
   ]
  },
  {
   "cell_type": "code",
   "execution_count": 43,
   "metadata": {},
   "outputs": [],
   "source": [
    "from elasticsearch import Elasticsearch\n",
    "import fitz\n",
    "import os"
   ]
  },
  {
   "cell_type": "code",
   "execution_count": 44,
   "metadata": {},
   "outputs": [
    {
     "data": {
      "text/plain": [
       "True"
      ]
     },
     "execution_count": 44,
     "metadata": {},
     "output_type": "execute_result"
    }
   ],
   "source": [
    "es = Elasticsearch(\n",
    "    \"https://localhost:9200\",\n",
    "    basic_auth=[\"elastic\",\"uxVFMV452qfPJkXeYlVW\"],\n",
    "    ca_certs=\"C:\\\\Users\\\\aonno\\\\Downloads\\\\elasticsearch-8.13.4-windows-x86_64\\\\elasticsearch-8.13.4\\\\config\\\\certs\\\\http_ca.crt\"\n",
    ")\n",
    "\n",
    "es.ping()"
   ]
  },
  {
   "cell_type": "code",
   "execution_count": 45,
   "metadata": {},
   "outputs": [],
   "source": [
    "# Function to extract text from PDF\n",
    "def extract_text_from_pdf(pdf_path):\n",
    "    try:\n",
    "        doc = fitz.open(pdf_path)\n",
    "        text = \"\"\n",
    "        for page_num in range(len(doc)):\n",
    "            page = doc.load_page(page_num)\n",
    "            text += page.get_text()\n",
    "        return text\n",
    "    except Exception as e:\n",
    "        print(f\"Error extracting text from {pdf_path}: {e}\")\n",
    "        return \"Error getting the file\""
   ]
  },
  {
   "cell_type": "code",
   "execution_count": 46,
   "metadata": {},
   "outputs": [],
   "source": [
    "# Function to check if a file has already been ingested\n",
    "def is_file_ingested(file_name, es_client, es_index):\n",
    "    query = {\n",
    "        \"query\": {\n",
    "            \"term\": {\n",
    "                \"file_name.keyword\": file_name\n",
    "            }\n",
    "        }\n",
    "    }\n",
    "    res = es_client.search(index=es_index, body=query)\n",
    "    return len(res['hits']['hits']) > 0"
   ]
  },
  {
   "cell_type": "code",
   "execution_count": 47,
   "metadata": {},
   "outputs": [],
   "source": [
    "from sentence_transformers import SentenceTransformer\n",
    "model = SentenceTransformer('all-mpnet-base-v2')"
   ]
  },
  {
   "cell_type": "code",
   "execution_count": 48,
   "metadata": {},
   "outputs": [],
   "source": [
    "es_index = \"pdf_documents\""
   ]
  },
  {
   "cell_type": "code",
   "execution_count": 49,
   "metadata": {},
   "outputs": [],
   "source": [
    "# Function to prepare data for Elasticsearch\n",
    "def prepare_data_for_elasticsearch(pdf_folder):\n",
    "    data_list = []\n",
    "    for root, _, files in os.walk(pdf_folder):\n",
    "        for file in files:\n",
    "            if file.lower().endswith('.pdf'):\n",
    "                if not is_file_ingested(file, es, es_index):\n",
    "                    pdf_path = os.path.join(root, file)\n",
    "                    text_content = extract_text_from_pdf(pdf_path)\n",
    "                    content_vector = model.encode(text_content)\n",
    "                    print(content_vector)\n",
    "                    data = {\n",
    "                        \"file_name\": file,\n",
    "                        \"location\": pdf_path,\n",
    "                        \"content\": text_content,\n",
    "                        \"content_vector\": content_vector\n",
    "                    }\n",
    "                    data_list.append(data)\n",
    "                else:\n",
    "                    print(\"file already ingested.Skipping\")\n",
    "    return data_list\n"
   ]
  },
  {
   "cell_type": "code",
   "execution_count": 50,
   "metadata": {},
   "outputs": [],
   "source": [
    "# Function to index data into Elasticsearch\n",
    "def index_data_to_elasticsearch(data_list, es_index, es_client):\n",
    "    for data in data_list:\n",
    "        es_client.index(index=es_index, body=data)"
   ]
  },
  {
   "cell_type": "code",
   "execution_count": 51,
   "metadata": {},
   "outputs": [
    {
     "data": {
      "text/plain": [
       "True"
      ]
     },
     "execution_count": 51,
     "metadata": {},
     "output_type": "execute_result"
    }
   ],
   "source": [
    "es.ping()"
   ]
  },
  {
   "cell_type": "code",
   "execution_count": 52,
   "metadata": {},
   "outputs": [
    {
     "name": "stderr",
     "output_type": "stream",
     "text": [
      "<>:1: SyntaxWarning: invalid escape sequence '\\p'\n",
      "<>:1: SyntaxWarning: invalid escape sequence '\\p'\n",
      "C:\\Users\\aonno\\AppData\\Local\\Temp\\ipykernel_5208\\3510188874.py:1: SyntaxWarning: invalid escape sequence '\\p'\n",
      "  pdf_folder = \".\\pdf\"  # Replace with the path to your PDF folder\n"
     ]
    },
    {
     "name": "stdout",
     "output_type": "stream",
     "text": [
      "file already ingested.Skipping\n",
      "[ 3.06778233e-02 -5.00367656e-02 -1.60034169e-02 -5.88151105e-02\n",
      " -1.16284378e-02 -2.52136048e-02  2.00418923e-02  9.98345949e-03\n",
      " -4.81597446e-02 -6.70200447e-03 -1.28003862e-02 -5.32402704e-03\n",
      "  5.57958260e-02  1.95952901e-03  5.50487302e-02  2.23394879e-03\n",
      "  2.03479417e-02 -1.93522219e-02 -6.88359290e-02  4.37771082e-02\n",
      " -4.05227207e-02 -9.58875846e-03 -5.55759929e-02 -6.74029929e-04\n",
      "  6.51760548e-02  2.62193382e-02 -1.79248042e-02 -4.30681035e-02\n",
      " -3.16004455e-02 -9.10640433e-02  8.95293579e-02  2.42825858e-02\n",
      "  5.14826849e-02 -2.18621492e-02  1.85553381e-06  5.65091753e-03\n",
      "  3.18039693e-02 -7.67268892e-03 -4.82764095e-02  3.28235440e-02\n",
      "  5.01886457e-02 -4.81482409e-03  2.28731409e-02 -8.30701087e-03\n",
      " -2.49514561e-02  8.27300735e-03 -3.13783288e-02  3.19388998e-03\n",
      "  5.13868332e-02  9.61054713e-02 -1.11739282e-02  1.55436592e-02\n",
      " -9.80123058e-02  6.89655822e-03 -5.04011549e-02 -3.35399956e-02\n",
      " -4.26507518e-02  3.28134112e-02 -3.38658108e-03  3.18969376e-02\n",
      " -2.36266740e-02  5.48322080e-03 -1.48477033e-02  5.28916083e-02\n",
      "  1.31096859e-02  4.86054607e-02  3.96696068e-02  1.38302119e-02\n",
      "  3.35131325e-02  7.77094392e-03  3.23675461e-02 -1.44345015e-02\n",
      "  3.36373895e-02  2.01540776e-02 -3.43253426e-02 -6.36324286e-02\n",
      " -1.61578953e-02 -1.03785028e-03 -1.07936114e-02  6.86644297e-03\n",
      "  7.60164335e-02  3.74883935e-02 -3.24925780e-02 -2.70613227e-02\n",
      "  6.26183301e-02  4.10862342e-02 -1.58548187e-02 -3.32310377e-03\n",
      " -3.89419347e-02 -2.98481341e-02 -1.57216564e-02 -2.18456369e-02\n",
      " -3.10444832e-02  3.84227298e-02 -2.82196198e-02  9.27112065e-03\n",
      " -3.21078696e-03 -7.54556581e-02  5.09991869e-02  5.26549411e-04\n",
      "  2.75801048e-02  2.46372558e-02  2.33574770e-02  2.42522061e-02\n",
      "  2.48821359e-03  6.43205568e-02 -3.22423279e-02  5.27380779e-02\n",
      "  4.28389646e-02  1.96700431e-02  2.57353596e-02 -3.51333059e-02\n",
      "  7.87746385e-02  1.24228271e-02  2.09731851e-02 -3.73984687e-02\n",
      " -5.39281629e-02 -2.60963086e-02  1.38521381e-02 -4.62103188e-02\n",
      "  3.17330696e-02  3.68850841e-03 -1.26211764e-03  5.42545877e-03\n",
      " -1.01371994e-02 -9.67645552e-03  1.68471429e-02  2.76123062e-02\n",
      "  2.86326986e-02  1.12366807e-02 -6.84314291e-04 -3.12343072e-02\n",
      " -6.27427399e-02 -3.69333774e-02 -5.68543337e-02 -1.04703344e-02\n",
      " -4.20819595e-02  1.22925071e-02  4.21717344e-03  2.69390494e-02\n",
      "  1.23484889e-02 -7.88884759e-02  1.18379039e-03 -1.55966999e-02\n",
      "  3.49485166e-02 -1.94477793e-02 -2.30494663e-02  4.73624505e-02\n",
      " -2.97318473e-02 -1.77088194e-02  2.04202887e-02 -1.46033324e-03\n",
      "  2.60431245e-02  4.22295146e-02  4.20137867e-02  7.16306493e-02\n",
      "  1.18723875e-02 -1.27434703e-02  2.52177212e-02 -4.14444990e-02\n",
      "  2.81061921e-02 -3.00112516e-02  5.81895839e-03  3.21489275e-02\n",
      " -9.15970001e-03  1.94225349e-02 -7.08315056e-03  4.81254840e-03\n",
      " -2.31302269e-02 -3.46280187e-02  4.77780215e-02 -4.38864827e-02\n",
      "  7.25352624e-03 -4.96951630e-03 -3.54073867e-02 -6.63557202e-02\n",
      "  7.55203515e-03  4.01905216e-02  1.75517760e-02 -4.07411810e-03\n",
      "  2.26655565e-02 -3.84718296e-04  2.73016794e-03 -1.47002535e-02\n",
      " -2.60628499e-02  9.60435500e-05 -6.95161289e-03  1.33187529e-02\n",
      " -3.10636088e-02  1.98832471e-02 -1.38097052e-02 -1.32579785e-02\n",
      " -8.69674161e-02 -5.03264777e-02  8.81571509e-03  3.99518050e-02\n",
      "  1.81925241e-02 -2.85272412e-02  3.90464440e-02  8.45278241e-03\n",
      "  2.19385866e-02 -2.17950568e-02  6.22127019e-02  1.29790120e-02\n",
      "  2.45965514e-02 -1.00868791e-02 -5.57859167e-02  2.56181788e-03\n",
      " -1.90889766e-03 -2.89165359e-02 -2.98811169e-03  3.07244398e-02\n",
      "  3.22022252e-02  3.58527116e-02 -1.26527930e-02  2.83380188e-02\n",
      " -1.35338092e-02 -8.19223374e-03 -1.52538652e-02  2.11701207e-02\n",
      "  2.56492035e-03  4.94348705e-02 -2.53309440e-02  2.73628645e-02\n",
      "  8.02265406e-02 -8.74874461e-03 -8.36537778e-03  6.16938854e-03\n",
      "  3.18845250e-02  2.86016222e-02  2.00236514e-02 -1.18817175e-02\n",
      " -4.93137389e-02 -1.17473807e-02  3.66341928e-03 -6.16952078e-03\n",
      "  3.93530466e-02  9.13779065e-02 -4.47049625e-02 -3.25823314e-02\n",
      "  3.88282277e-02  2.94343103e-02 -8.87193903e-03  3.27418488e-03\n",
      "  6.97062863e-03  2.46898737e-02 -1.65922027e-02  5.17117828e-02\n",
      "  7.17400527e-03  4.11768742e-02  2.02549202e-03 -7.36161275e-03\n",
      " -2.78097838e-02  1.27544766e-02 -1.15730902e-02  1.66777615e-02\n",
      "  2.47976650e-02  5.43911345e-02 -2.32262854e-02 -2.37275311e-03\n",
      "  5.03968354e-03  3.22856419e-02 -2.49917395e-02  2.85862852e-02\n",
      "  4.68219705e-02 -1.71967354e-02 -1.24987579e-04 -7.19824359e-02\n",
      " -4.07771803e-02  1.27554294e-02 -4.25701290e-02 -3.04450118e-03\n",
      "  1.21236322e-02 -2.34305393e-02  2.56209876e-02  3.61867473e-02\n",
      "  2.27242764e-02  3.81197110e-02 -5.47512574e-03  1.51441051e-02\n",
      " -5.66641614e-03  4.98342654e-03 -1.74861830e-02 -2.09138505e-02\n",
      "  3.30693386e-02  5.78970313e-02  3.40894721e-02 -1.67990755e-02\n",
      " -1.07455269e-01  1.84442382e-02 -6.79096729e-02 -3.38114724e-02\n",
      " -3.73010449e-02 -8.41678455e-02 -1.44315157e-02 -3.56484763e-02\n",
      " -2.85848361e-02  2.40864456e-02  3.89214903e-02  2.24000588e-02\n",
      " -8.86905473e-03 -3.00204294e-04 -6.54642135e-02  3.45833376e-02\n",
      " -3.41277905e-02  2.41344166e-03  3.81601453e-02  4.36097644e-02\n",
      " -6.47911876e-02 -8.54284223e-03 -2.58378480e-02  3.68585475e-02\n",
      "  4.16293889e-02 -3.60674970e-03 -3.83085050e-02  3.70715233e-03\n",
      " -4.63975128e-03  5.15087657e-02 -4.27123457e-02  6.33996800e-02\n",
      " -6.92743529e-03 -2.49810424e-02 -2.62385290e-02  3.06142420e-02\n",
      " -6.25394434e-02 -9.73257422e-02 -5.68416296e-03 -1.46235190e-02\n",
      "  2.56139189e-02 -5.01015261e-02 -1.38663398e-02  9.93267447e-02\n",
      " -2.06640232e-02 -7.47290847e-04  1.25418268e-02 -4.33582887e-02\n",
      " -2.84232479e-03 -3.37430984e-02 -1.06819230e-03 -6.89078541e-03\n",
      " -5.61570227e-02  3.39174531e-02 -2.03877091e-02 -1.79009885e-02\n",
      "  3.97216193e-02  1.30881583e-02 -5.87823279e-02 -2.65985318e-02\n",
      "  6.13837205e-02 -1.63528658e-02  3.43508944e-02 -2.74735410e-02\n",
      " -6.56614378e-02  1.14888260e-02 -3.32533494e-02  7.35595217e-03\n",
      "  4.55152094e-02 -1.97624899e-02  1.19840531e-02  8.03425536e-02\n",
      " -4.19988111e-02 -3.05679534e-02  9.35781281e-03 -6.22915812e-02\n",
      "  7.76426680e-03  1.47055015e-02  8.06578551e-04  2.87552942e-02\n",
      "  2.85410173e-02  5.04617870e-04  2.81904433e-02  3.00219115e-02\n",
      "  1.34148980e-02 -5.67292981e-03  8.60347692e-03 -4.61533200e-03\n",
      " -8.66523944e-03  1.06456531e-02  2.50067804e-02 -6.72559068e-03\n",
      "  1.92263294e-02  5.09976298e-02  1.04091734e-01  2.74188519e-02\n",
      " -1.18614603e-02 -1.92550011e-02 -1.31181581e-02 -2.61173099e-02\n",
      " -1.30951786e-02 -4.29443307e-02 -4.39374484e-02 -5.16284257e-02\n",
      " -6.58962727e-02 -2.56776027e-02  1.10828150e-02  1.78338960e-02\n",
      " -2.79397028e-03  5.41238189e-02  6.20292313e-02  3.78988199e-02\n",
      "  6.70119934e-03 -1.37897795e-02  1.81792043e-02  1.99321434e-02\n",
      " -3.67987938e-02 -8.25197808e-03 -2.15355959e-02 -5.73579594e-02\n",
      " -6.07362669e-03 -5.02146920e-03  4.46388163e-02 -4.08711582e-02\n",
      "  1.35788554e-02  5.14335744e-03 -2.48579755e-02  5.76369576e-02\n",
      " -1.73165239e-02  1.02168052e-02  9.10044555e-03 -5.87155635e-04\n",
      " -2.64832377e-02  5.61375506e-02 -1.34513555e-02 -2.57771350e-02\n",
      "  1.38657829e-02 -9.89664719e-03  5.36916181e-02  3.52987014e-02\n",
      " -8.49414691e-02 -3.54872532e-02 -3.82199697e-02  4.59044203e-02\n",
      " -1.36922244e-02  9.19175297e-02 -2.51324866e-02 -1.71060525e-02\n",
      "  2.41500027e-02  5.86446263e-02 -3.78696956e-02 -3.49074826e-02\n",
      " -1.45297544e-02 -3.38889323e-02  9.20262039e-02  6.51733875e-02\n",
      "  4.54462618e-02 -7.69885406e-02  1.11279236e-02  7.55735785e-02\n",
      " -3.56424153e-02 -7.23935515e-02 -3.18253832e-03 -2.24065129e-02\n",
      " -1.27928378e-02 -5.78012280e-02  1.62188690e-02 -2.78953332e-02\n",
      " -5.23455702e-02  8.40992294e-03 -2.56847329e-02  7.36996382e-02\n",
      "  9.03837085e-02  3.16963494e-02 -1.05351597e-01  1.25345076e-02\n",
      " -1.44561585e-02  2.92604268e-02 -2.12511942e-02 -5.78435138e-03\n",
      " -1.21785197e-02 -4.22326624e-02  2.21270099e-02  3.84531659e-03\n",
      " -2.58199163e-02 -1.76085588e-02 -4.05001827e-02 -3.65019664e-02\n",
      " -5.28553464e-02 -2.42370553e-03  5.90512017e-03  4.19683978e-02\n",
      "  1.42406309e-02  2.71153115e-02 -6.10285848e-02 -2.32595429e-02\n",
      "  2.37094648e-02 -2.29087099e-02 -1.27469618e-02 -7.30710512e-04\n",
      "  7.41394889e-03  7.78766209e-03  1.30941309e-02 -2.73699760e-02\n",
      " -7.73390639e-04  1.41665200e-02  4.82700989e-02  5.91056570e-02\n",
      "  1.13262003e-03  5.20487763e-02  5.28528132e-02  5.68409041e-02\n",
      "  1.44541636e-02  1.70412697e-02  4.08482961e-02  4.02521327e-05\n",
      " -5.09289689e-02 -5.64515330e-02 -2.54645888e-02  1.95708610e-02\n",
      "  3.48045118e-02 -5.44124879e-02 -1.85503643e-02  1.26185790e-02\n",
      "  3.75176519e-02 -1.19565772e-02  4.38778214e-02  5.28523922e-02\n",
      "  6.05009347e-02  5.17330244e-02 -1.26035167e-02 -3.80244218e-02\n",
      " -1.13932241e-03 -6.54591341e-03 -1.25426790e-02 -7.16501325e-02\n",
      "  4.61186580e-02  3.35085541e-02  5.28145470e-02  9.15915822e-04\n",
      "  3.26778628e-02  1.22093419e-02  1.30004073e-02  1.88444334e-03\n",
      "  8.09655041e-02 -6.19858177e-03 -2.59724837e-02 -3.13842222e-02\n",
      "  2.00849343e-02  8.97454694e-02  5.72678894e-02 -2.79251672e-02\n",
      " -8.83269496e-03 -2.58066673e-02  2.73043681e-02  2.15705074e-02\n",
      "  2.81681120e-02 -5.82791455e-02  4.29406799e-02 -3.98170874e-02\n",
      " -2.20572483e-02  5.23843616e-02  2.93021780e-02 -2.69329064e-02\n",
      "  3.49164009e-02  2.73374598e-02 -1.80206299e-02 -5.52350359e-33\n",
      " -2.36112867e-02  1.47882011e-02  5.03520854e-02  7.61334505e-03\n",
      " -8.87690708e-02  2.65216026e-02 -6.98514134e-02  3.84033401e-03\n",
      "  1.55074894e-02 -3.59598845e-02 -6.96325628e-03 -1.23457098e-02\n",
      "  7.97347631e-03 -1.75737813e-02 -9.81924776e-03 -2.84226928e-02\n",
      " -4.93222028e-02  1.46806939e-02 -6.84989989e-02 -2.30349917e-02\n",
      "  3.42752039e-02 -9.31636896e-03 -4.24468890e-02 -2.15154812e-02\n",
      "  2.39915997e-02 -4.66964208e-02 -3.37909758e-02 -7.79544981e-03\n",
      " -5.55851571e-02  2.98400410e-02 -1.11428192e-02 -4.38048430e-02\n",
      "  1.90220438e-02  1.03414403e-02  8.35052598e-03 -4.86595370e-03\n",
      " -4.51913103e-02  3.64545211e-02 -1.18738199e-02  4.23622467e-02\n",
      "  5.72219826e-02 -2.13304237e-02  2.88634151e-02 -1.98952090e-02\n",
      " -1.45274941e-02 -7.33073875e-02 -1.03740618e-02  8.12249854e-02\n",
      "  1.73474364e-02 -1.01930890e-02 -2.17538252e-02  2.44052298e-02\n",
      " -2.46861880e-03 -1.60394143e-02 -4.07860661e-03 -3.29803377e-02\n",
      "  2.52885707e-02 -6.71583563e-02  1.09273456e-02  2.24078018e-02\n",
      "  3.32096107e-02  1.10121481e-01  8.41183864e-05  3.29398699e-02\n",
      " -6.54990077e-02 -1.96952671e-02 -4.44522612e-02 -3.03673954e-03\n",
      "  3.38916481e-02 -1.38970977e-02 -1.32581620e-02  7.23099187e-02\n",
      " -2.31712293e-02 -9.93642211e-03  8.31468627e-02 -7.02888742e-02\n",
      "  2.34059691e-02  2.53972486e-02  1.39412014e-02  4.65590209e-02\n",
      " -2.48118490e-02  3.00203525e-02 -5.27820289e-02  1.36099672e-02\n",
      "  6.33836612e-02 -3.09464168e-02 -3.33248861e-02  1.72132980e-02\n",
      "  3.30760260e-03 -2.84567121e-02  2.46731117e-02 -7.40928063e-03\n",
      " -1.11550307e-02  1.69567447e-02  7.47395009e-02 -2.13016546e-03\n",
      "  3.33657451e-02 -9.99611896e-03 -5.67386684e-04 -6.46594390e-02\n",
      "  1.60703529e-02 -1.66128557e-02  2.44789980e-02 -1.88527163e-02\n",
      "  4.45821881e-02  7.15538021e-03 -8.19869060e-03 -9.22385231e-03\n",
      "  1.43052703e-02 -3.57273445e-02  6.26621023e-03  7.86380563e-03\n",
      " -7.59184733e-03 -5.90178519e-02 -5.65111265e-02 -8.73742392e-04\n",
      " -1.07973535e-02 -3.88936624e-02  4.40846421e-02 -9.04835537e-02\n",
      "  2.23220643e-02  3.66432369e-02  7.65256062e-02  1.63571257e-02\n",
      " -8.83590337e-03  4.71410416e-02  2.02969033e-02  6.23483676e-03\n",
      " -3.08963135e-02 -1.88391302e-02 -3.20701115e-02  4.41730544e-02\n",
      "  2.50127925e-07 -4.76583056e-02  4.05835547e-02  3.95895205e-02\n",
      " -4.44541276e-02 -2.07081120e-02 -2.40472741e-02 -4.80671749e-02\n",
      "  1.29251815e-02 -9.04261786e-03  1.19837606e-02  2.85666548e-02\n",
      "  1.51116150e-02 -6.97148740e-02  9.30690207e-03  7.40188931e-04\n",
      " -1.77628677e-02  1.66089553e-02 -3.01177949e-02 -1.75404865e-02\n",
      " -2.60140710e-02 -2.11746022e-02 -5.65005317e-02  3.74081470e-02\n",
      " -7.20371306e-02 -1.86916608e-02  3.16508934e-02  7.11580622e-04\n",
      "  4.32533659e-02  1.23437187e-02  1.74615812e-02  7.74430810e-03\n",
      "  2.10200474e-02 -4.73081507e-02  2.78887227e-02 -1.39358714e-02\n",
      " -4.31784019e-02  7.08399266e-02  1.65264979e-02  3.02856136e-02\n",
      "  3.66176292e-02 -7.80110434e-02  3.44308876e-02 -3.25941257e-02\n",
      " -5.11536151e-02  2.85781082e-02 -8.03613942e-03 -4.42646481e-02\n",
      " -3.20815556e-02 -5.49191013e-02 -3.24843191e-02  4.42652358e-03\n",
      "  1.65147334e-02  4.64444747e-03 -1.56682301e-02 -1.46261405e-03\n",
      " -3.35063152e-02  7.81229837e-03 -1.56557355e-02  1.53760789e-02\n",
      "  2.53082272e-02 -5.28452955e-02 -1.51424110e-02  3.63901481e-02\n",
      "  5.68661094e-02  2.59721018e-02  1.99032947e-03 -4.87839710e-03\n",
      "  2.40510254e-34 -1.87089201e-02 -3.95135470e-02 -2.51151957e-02\n",
      " -1.33653358e-02  3.04204524e-02  5.08951070e-03 -3.26886885e-02\n",
      " -2.11052340e-03  4.76443507e-02 -3.48517857e-02 -4.30566184e-02]\n",
      "Indexed 1 documents into Elasticsearch index 'pdf_documents'.\n"
     ]
    }
   ],
   "source": [
    "pdf_folder = \".\\pdf\"  # Replace with the path to your PDF folder\n",
    "es_host = \"http://localhost:9200\"  # Replace with your Elasticsearch host\n",
    "es_index = \"pdf_documents\"  # Replace with your Elasticsearch index name\n",
    "\n",
    "# Initialize Elasticsearch client\n",
    "# es_client = Elasticsearch([es_host])\n",
    "# es is es client\n",
    "\n",
    "# Extract data from PDFs and prepare for Elasticsearch\n",
    "data_list = prepare_data_for_elasticsearch(pdf_folder)\n",
    "\n",
    "# Index data into Elasticsearch\n",
    "index_data_to_elasticsearch(data_list, es_index, es)\n",
    "\n",
    "print(f\"Indexed {len(data_list)} documents into Elasticsearch index '{es_index}'.\")\n"
   ]
  },
  {
   "cell_type": "code",
   "execution_count": 53,
   "metadata": {},
   "outputs": [],
   "source": [
    "# ### creta new index in elastic search\n",
    "# from indexMapping import indexMapping\n",
    "# try:\n",
    "#     es.indices.create(index=\"all_products\", mappings=indexMapping)\n",
    "# except Exception as e:\n",
    "#     print(e)"
   ]
  },
  {
   "cell_type": "code",
   "execution_count": 54,
   "metadata": {},
   "outputs": [
    {
     "name": "stderr",
     "output_type": "stream",
     "text": [
      "C:\\Users\\aonno\\AppData\\Local\\Temp\\ipykernel_5208\\2653000530.py:11: ElasticsearchWarning: The kNN search API has been replaced by the `knn` option in the search API.\n",
      "  res = es.knn_search(index=\"pdf_documents\", knn=query , source=[\"Name\",\"location\", \"content\"])\n"
     ]
    },
    {
     "data": {
      "text/plain": [
       "[{'_index': 'pdf_documents',\n",
       "  '_id': 'rOh5t48Bs1_zjc2DYD1k',\n",
       "  '_score': 0.51249766,\n",
       "  '_ignored': ['content.keyword'],\n",
       "  '_source': {'location': '.\\\\pdf\\\\inec.pdf',\n",
       "   'content': \"Author’s Biography \\nAybars Oruc is a Marine Engineer. After he had worked as an engineer on different types of merchant vessels such as \\naframax tanker, LPG tanker and container vessel, he worked as HSEQ Coordinator, and then HSEQ Superintendent in a \\ntanker management company for 4 years. He is a Ph.D. candidate at the NTNU. His research field is maritime cyber security. \\nClaims of State-Sponsored Cyberattack in the Maritime Industry \\nA Oruc* M.Sc. MIET MIMarEST \\n* Norwegian University of Science and Technology, Norway\\n* Corresponding Author. Email: aybars.oruc@ntnu.no\\nSynopsis \\nDevelopments in technology bring inherent risks along with convenience. Undoubtedly, cyberattacks \\nconstitute one potentially serious risk. While a stereotypical scenario involves a curious teenager sitting in \\nfront of his computer at home, a much more critical threat comes from experienced professionals, supported \\nby states, who are specially trained and who have the necessary technological equipment to do great harm. \\nThese cyberattacks exert a negative impact on the maritime industry due to the wide usage area of both \\ninformation technology (IT) and operational technology (OT) systems. On a related note, opponents of \\nautonomous ship projects can effectively cite the weaknesses detected in navigation systems onboard ships. \\nExamination of cyberattacks in the maritime industry as reflected in the press or in academic studies reveals \\nclaims that some of these attacks are state-sponsored. However, no country has to date accepted responsibility \\nfor such cyberattacks. Although those targeted by such accusations have neither confirmed nor rejected \\nresponsibility, the nature of the attacks – sophisticated or requiring high-cost equipment – raises the \\npossibility that behind the attacks are countries that may have conducted research studies for defensive or \\noffensive purposes. China, Iran, North Korea, Russia and Turkey have been named among the countries \\ncarrying out cyberattacks on the maritime industry. It is envisaged that these attacks are based on motivations \\nsuch as information theft, defence research or sabotage of exploration for underground sources. Among the \\ncyberattacks on vessels that have been assessed as state-sponsored, the most common have involved GPS \\njamming, rendering GPS useless, and GPS spoofing that causes the GPS to report an incorrect position for a \\nship at sea. This study examines the cyberattacks on the maritime industry that are asserted as state-sponsored \\nas well as the parties involved in these attacks and the possible objectives of those parties. \\nKeywords: Maritime; ship; cybersecurity; state-sponsored cyberattack \\n1. Introduction\\nCybersecurity concerns are growing along with the advancement of technologies, the extensive use of digital\\nand cyber-physical networks on ships, and autonomous ship initiatives such as the Maritime Unmanned \\nNavigation through Intelligence in Networks (MUNIN), Autosea and Yara Birkeland (Brekke et al. 2019; \\nMUNIN 2012; Yara International 2018). Furthermore, cybersecurity has led other maritime-related organisations \\nto become involved due to cyber incidents both at sea and on shore.  \\nNon-profit organisations such as the Oil Companies International Marine Forum (OCIMF) and Chemical \\nDistribution Institute (CDI) have begun to pressure tanker operators to take action against cyber threats by \\noffering vetting services for the commercial operations of tanker operators. The Tanker Management and Self-\\nAssessment (TMSA) and Ship Inspection Report Program (SIRE) questionnaires developed by OCIMF have \\nbeen enhanced with queries relevant to cybersecurity. Specific cybersecurity questions have been incorporated \\ninto CDI’s Ship Inspection Report (SIR) questionnaire. RightShip, which offers vetting services for dry cargo \\nships, has introduced cybersecurity questions into its questionnaire as well (Oruc 2019). \\nThe maritime sector has also seen initiatives for examining cybersecurity problems, such as ‘Cyber-MAR’ \\n(Cyber-MAR 2019), ‘Maritime Cyber Resilience’ (MarCy) (CRISTIN 2020), ‘Cyber Security of Maritime ICT-\\nBased Systems’ (University of Rijeka 2019) and the project of ‘Centre for Maritime Cyber Security’ at Tallinn \\nUniversity of Technology (CORDIS 2020). Countries have also started developing their own research facilities. \\nThe Danish Maritime Cybersecurity Unit was established by the Danish Maritime Authority in June 2018 \\n(Danish Maritime Cybersecurity Unit 2019). The Maritime Cybersecurity Operations Centre was opened in 2019 \\nby the Maritime and Port Authority of Singapore (Maritime and Port Authority of Singapore 2019). Lastly, the \\nInternational Maritime Organization (IMO) has not been indifferent to developments. In accordance with \\nInternational Safety Management (ISM) Code, all maritime companies are mandated to insert a ‘Guidelines on \\nMaritime Cyber Risk Management’ into their safety management system, and this will be checked in the first \\nannual verification of the company’s Document of Compliance (DoC) as of 1 January 2021 (IMO 2017). \\nIndividuals or teams may arrange cyberattacks for varied purposes. Additionally, governments are pursuing \\nresearch not only on cybersecurity but also investigating purposes for cyberattack. Because of the technical \\nfacilities and qualified staff that states can offer, state-sponsored cyberattacks are highly sophisticated, yielding \\nmore serious results than attacks promoted by individuals or private groups. For instance, the Center for \\nAdvanced Defense (C4ADS) reported that the alleged attacks by Russia have affected 1,311 civilian vessels in \\nabout a 30-month period (C4ADS 2019). In other words, attacks are also harming merchant vessels.  \\nConference Proceedings of INEC\\n15th International Naval Engineering Conference & Exhibition\\nhttps://doi.org/10.24868/issn.2515-818X.2020.021\\nAlthough researchers have investigated the subject of maritime cybersecurity, current academic studies to \\ndate are not sufficient. While considerable work has examined state-sponsored attacks, no studies have been \\nidentified that focus on these attacks within the maritime industry. Therefore, this paper intends to contribute to \\nthe development of the literature.  \\n2. Cyberattacks in General Terms\\nThe International Organization for Standardization (ISO) defines cyberattack as an attempt to destroy,\\nexpose, alter, disable, steal or gain unauthorised access to or make unauthorised use of an asset (ISO 2018). \\nCyberattacks may be carried out against companies or governments as well as individuals. Such attacks can be \\nlaunched by computers, smartphones, tablets or electronic equipment developed for cyberattacks. The types of \\ncyberattacks are divided into two categories: ‘Targeted Attacks’ and ‘Untargeted Attacks’. \\n•\\nTargeted Attacks: In such attacks, a company or a ship’s systems and data are the intended targets (BIMCO\\n2018).\\n•\\nUntargeted Attacks: In this kind of attack, the systems and data belonging to a company or ship are among\\nmany potential targets (BIMCO 2018).\\nThe concept of ‘Maritime Security’ covers illegal and planned attacks against ships, port facilities and crew. \\nThe International Ship and Port Facility Security (ISPS) code was published to deter terror rampages against \\nships, ports and facilities after the ‘September 11’ attacks. ‘Maritime Cybersecurity’ is investigated by IMO \\nunder the Maritime Security category. The Maritime Safety Committee (MSC) and Facilitation Committee \\n(FAL) publish regulations and guidance, which are then circulated to the maritime sector.  \\n2.1. \\nTypical Characteristics of Cyber Threats \\nAs attack levels increase from level 1 to level 5, they become more sophisticated. Level advancement implies \\nnot only improved attack methods but also an increase in the qualification of aggressive groups. A level 1 attack \\ncan be carried out by a teenager sitting in front of a computer at home, even for entertainment purposes, while at \\nlevel 5, the attackers appear to be more well-informed and experienced as well as supported by countries for \\npolitical or military purposes. In other words, such high-level attacks are state-sponsored. Table 1 displays the \\nfive levels of cyber threats, dividing actors into five categories (Bodeau et al. 2010). \\nTable 1: Typical characteristics of cyber threats (Bodeau et al. 2010) \\nLevel \\nTypical Threat Actors \\nTypical Intents of Threat Actors \\n1 \\nCyber Vandalism \\nHackers, taggers, and ‘script kiddies’; \\nsmall disaffected groups of the above \\nDisrupt and/or embarrass the victimised organisation \\nor type of organisation (e.g. a specific department or \\nfederal government as a whole) \\n2 \\nCyber Theft / Crime \\nIndividuals or small, loosely affiliated \\ngroups; \\npolitical \\nor \\nideological \\nactivists; terrorists; domestic insiders; \\nindustrial espionage; spammers \\nObtain critical information and/or usurp or disrupt the \\norganisation’s business or mission functions for profit \\nor ideological cause \\n3 \\nCyber Incursion \\n/ Surveillance \\nNation-state \\ngovernment \\nentity; \\npatriotic hacker group; sophisticated \\nterrorist group; professional organised \\ncriminal enterprise \\nIncrease knowledge of general infrastructure; plant \\nseeds for future attacks; obtain or modify specific \\ninformation \\nand/or \\ndisrupt \\ncyber \\nresources, \\nspecifically resources associated with missions or \\neven information types \\n4 \\nCyber Sabotage \\n/ Espionage \\nProfessional intelligence organisation \\nor military service operative \\nObtain specific high-value information, undermine or \\nimpede critical aspects of a mission, programme or \\nenterprise, or place itself in a position to do so in the \\nfuture \\n5 \\nCyber Conflict / \\nWarfare \\nNation-state \\nmilitary, \\npossibly \\nsupported by their intelligence service; \\nvery \\nsophisticated \\nand \\ncapable \\ninsurgent or terrorist group \\nSeverely undermine or destroy an organisation’s use \\nof its mission, information and/or infrastructure \\n2.2. \\nImplemented Cyberattack Methods for State-Sponsored Attacks \\nThe current technological era has inaugurated an age of cyber threats as well. Cyberattacks are carried out by \\nmalicious individuals, groups or state-sponsored organisations using many different methods. This section \\nexplains the techniques employed in allegedly state-sponsored cyberattacks in the maritime industry. \\nConference Proceedings of INEC\\n15th International Naval Engineering Conference & Exhibition\\nhttps://doi.org/10.24868/issn.2515-818X.2020.021\\n2.2.1. GPS Jamming \\nAccording to the C4ADS, Global Positioning System (GPS) jamming is also called brute force jamming \\n(C4ADS 2019). This type of attack involves GPS jamming where radio noise is broadcast on the GPS frequency, \\nblocking the use of GPS and potentially disabling a vessel’s ability to navigate safely (Vistiaho 2017). However, \\na GPS failure alert may notify an officer of the problem. Further countermeasures include anti-jamming devices \\nto use against GPS jamming attacks. Because the applications of these devices are currently available only to \\nland vehicles, no such implementation currently exists for ships.  \\n2.2.2. GPS Spoofing \\nA GPS spoofing attack causes the targeted GPS to display the wrong location by receiving a false GPS signal \\n(Lund et al. 2018). Because an officer on the bridge of a ship might not detect this type of attack, such an attack \\nis more dangerous than a GPS jamming attack (Humphreys et al. 2008). An undetected attack of this nature \\nendangers the safe navigation of a ship.  \\n2.2.3. Spear Phishing \\nIn this scenario, the attacker sends an e-mail to the victim’s account. The target may be an individual, \\ndepartment or company. The malevolent e-mail, which appears to be sent from a reputable institution such as a \\nbank, an e-mail provider or a university, often requests the recipient to click a link. The purpose of this attack is \\npersonal data theft by prompting the victim to enter the desired information on a pop-up page, which might \\ninclude passwords, personal information and credit card numbers. Additionally, a customised e-mail may be sent \\nthat might contain the name, logo or personal details of the victim (Sophos 2013). \\n2.2.4. Malware \\nHarmful software, also known by the generic term malware, includes viruses, worms, trojans, spyware, etc. \\nMalware is used to damage infected devices or files and to steal personal data, photos and videos (Sophos 2013). \\nMalware usually attacks users through warez software and is easily accessed by attackers through files \\ndownloaded via torrent, USB (Universal Serial Bus) memory sticks or any visited websites. Connecting a mobile \\nphone to a ship’s computer to charge can cause the virus to infiltrate the ship’s network and may lead to the \\ncrashing of some systems like the ship’s Electronic Chart Display and Information System (ECDIS). Many types \\nof malware are a current threat to users. Of these, the Petya virus, used for ransomware attacks, should be \\nspecifically examined, considering the damage it has caused to Maersk, making its name infamous in the \\nmaritime sector. Essentially, Petya renders all files on the victim’s computer inaccessible, meaning these files \\ncannot be accessed unless a ransom is paid to the Bitcoin account issued by the attacker (Trend Micro 2017). \\nThe Danish maritime company Maersk suffered about $300 million in damages from a Petya-based attack \\n(Fadilpašić 2017). On a related note, another ransomware product, SamSam software, was used in a cyberattack \\non the Port of San Diego (Senzee 2019). \\n2.3. \\nCyber Incidents in the Maritime Industry \\nCyberattacks in the maritime sector have been on the increase, particularly in recent years. The threats are \\ntargeting offices, ports and even ships. Attacks, especially when levied against ships, cause more concern \\nbecause they can lead to injury of individuals and marine pollution. As an additional cautionary note, the \\npossibility of cyberattacks is a critical question mark in autonomous ship projects, adding urgency to the \\nnecessity of a closer review of cyberattacks. The maritime sector is experiencing both targeted and untargeted \\nattacks. In particular, the ransomware attack that caused Maersk to lose $300 million serves as a critical warning \\nfor untargeted attacks in the maritime industry. In the area of information theft, attacks can be carried out against \\nthe offices of maritime companies, and attackers can demand ransom. Furthermore, attacks may allegedly be \\nsupported by a state for both political and military purposes. It is possible to claim that attacks on the GPS \\nsystems of ships in particular are supported by governments because of being sophisticated of GPS attacks. In \\naddition to the GPS attacks discussed here, the event of attackers taking complete possession of a massive \\ncontainer vessel in 2017 received extensive news coverage (Blake 2017). Ports represent another area in the \\nmaritime sector to be targeted. In general, port attacks are planned as part of carrying out smuggling activities. \\nTable 2, corresponding to the years 2011-2019, reveals how cyberattacks reflected in the press have increased, \\nespecially in recent years. The table includes a total of 22 incidents, 17 of which were shore-based attacks, and \\nfive of which were targeted towards vessels. (A dash [-] in the table means ‘particular information is unknown or \\ndoes not apply’). \\nConference Proceedings of INEC\\n15th International Naval Engineering Conference & Exhibition\\nhttps://doi.org/10.24868/issn.2515-818X.2020.021\\nTable 2: Cyberattacks in the maritime industry \\nYear \\nImpact \\nArea \\nOrganisation / Location \\nAffected System \\nMethod \\nImpact \\nReference \\nAccused State \\n2011 \\nShore \\nIRISL \\nCargo tracking system \\n- \\nOperational interruption \\n(Torbati and Saul 2012) \\n(Cyber Keel 2014) \\n- \\n2011 \\nShore \\nPorts of Belgium and the \\nNetherlands \\nContainer tracking system \\nSpear phishing \\nSmuggling \\n(Bateman 2013)  \\n(European Cybercrime \\nCentre 2013) \\n- \\n2012 \\nShore \\nAustralian Customs and Border \\nProtection Service Agency \\nContainer tracking system \\n- \\nSmuggling \\n(Kochetkova 2015) \\n- \\n2012 \\nShore \\nDanish Maritime Authority \\nNetwork \\nSpear phishing \\nData theft \\n(Cyber Keel 2014) \\n (The Local 2014) \\nChina \\n2013 \\nVessel \\nGulf of Mexico \\nNetwork \\nMalware \\nOperational interruption \\n(Shauk 2013) \\n- \\n2016 \\nVessel \\nCoast off South Korea \\nGPS \\nGPS jamming \\nBlocking GPS signal \\n(Saul 2017) \\n(Graham 2017) \\nNorth Korea \\n2016 \\nShore \\nA Broker’s e-mail account \\nE-mail\\n- \\n$500,000 financial loss \\n(Belmont 2016) \\n- \\n2017 \\nShore \\nClarksons \\nNetwork \\n- \\nData theft \\n(Leyden 2018) \\n (Esage 2018) \\n- \\n2017 \\nShore \\nMaersk \\nNetwork \\nRansomware (Petya) \\n$250-300 million financial loss, \\ndata contamination \\n(Maersk 2017) (Tung 2018) \\n- \\n2017 \\nVessel \\nEn route from Cyprus to Djibouti \\nNavigation system \\n- \\nFull control by attackers \\n(Blake 2017) \\n- \\n2017 \\nVessel \\nCoast off Russia \\nGPS \\nGPS spoofing \\nWrong GPS location \\n(Goward 2017) \\n(Humphreys 2017) \\nRussia \\n2017 \\nShore \\nBW Group \\nNetwork \\n- \\nOperational interruption \\n(Mohindru 2017) \\n(Ngai 2017) \\n- \\n2018 \\nShore \\nSvitzer Australia \\nE-mail\\nE-Mail forwarding\\nData theft \\n(WMN 2018b) \\n- \\n2018 \\nShore \\nCOSCO Shipping \\nE-mail, phone, website, network\\nRansomware \\nOperational interruption \\n(WMN 2018a) \\n- \\n2018 \\nShore \\nAustal \\nNetwork \\n- \\nData theft \\n(Maritime Executive 2017) \\n- \\n2018 \\nShore \\nPort of Barcelona \\n- \\n- \\n- \\n(IMarEST 2018) \\n- \\n2018 \\nShore \\nPort of San Diego \\nNetwork \\nRansomware \\n(SamSam) \\nData contamination \\n(Senzee 2019) \\nIran \\n2018 \\nVessel \\nCoast off Cyprus \\nGPS \\nGPS Jamming \\n- \\n(2018 cited Denizcilik \\nBilgileri 2018) \\nTurkey \\n2019 \\nShore \\nJames Fisher and Sons \\nNetwork \\n- \\nData contamination \\n(Safety4Sea 2019) \\n- \\n2019 \\nShore \\nPrincess & Holland America \\nE-mail\\n- \\nData theft \\n(Coble 2020) \\n- \\n2019 \\nShore \\nCrew and Concierge \\nNetwork \\n- \\nData theft \\n(Safety4Sea 2020) \\n- \\n2019 \\nShore \\nLondon Offshore Consultants \\nNetwork \\nRansomware \\nOperational interruption \\n(Chambers 2020) \\n-\\nConference Proceedings of INEC\\n15th International Naval Engineering Conference & Exhibition\\nhttps://doi.org/10.24868/issn.2515-818X.2020.021\\n \\n  \\n3. State-Sponsored Claims for Cyberattacks  \\nFive countries are suspected of having carried out state-sponsored cyberattacks on the maritime industry. The \\nsuspects include China, Iran, North Korea, Russia and Turkey. \\n3.1. \\nChina \\nIn April 2012, the Danish Maritime Authority was subjected to a critical cyberattack, though the cyberattack \\nwas not publicly announced until September 2014 (Cyber Keel 2014). The cybersecurity breach under \\ndiscussion was discovered in 2014 after an American IT specialist reported it. Investigations revealed that when \\na Danish Maritime Authority employee opened a PDF file containing the virus that was sent as an e-mail \\nattachment, the virus corrupted the employee’s computer and infected the attached network. Investigation \\nshowed that the attackers wanted confidential information regarding Danish shipping companies and the \\nmerchant fleet. The entire network system was shut down for several days while new anti-virus programmes \\nwere installed. Danish Defence Intelligence Service announced that this attack was highly sophisticated, that it \\nwas state-sponsored and that evidence pointed to the attack being organized by China. The Chinese Embassy in \\nCopenhagen refuted all accusations and announced that Chinese officials did not know about this attack (The \\nLocal 2014). \\nThis targeted attack illustrates the spear-phishing method. Corporate or government staff must be mindful of \\nthe potential for this type of attack, taking precautions when reviewing e-mails received from unrecognised \\nparties. Unfortunately, in this situation, if the American IT expert had not alerted the Danish Maritime Authority, \\nthe attackers might have been able to steal additional amounts of sensitive information for some time longer. \\nFollowing this event and after the 2017 cyberattack that caused substantial damage to Maersk, one of the world’s \\nleading maritime firms, the Danish government took heed and took steps to create an official cybersecurity unit. \\nThus, in June 2018, the Danish Maritime Authority established the Danish Maritime Cybersecurity Unit. \\nThis unit, which serves players in the Danish maritime sector, also organises professional workshops and \\nconferences especially for the maritime sector regarding cybersecurity. Not only do they develop strategy, but \\nthey play an essential role in implementing the formulated plans. An example of this unit’s efforts is the \\ndocument ‘Cyber and Information Strategy for the Maritime Sector’, covering 2019-2022 (Danish Maritime \\nCybersecurity Unit 2019). \\n3.2. \\nIran \\nThe Port of San Diego in the USA was subjected to cyberattack on 25 September 2018 (IMarEST 2018). \\nThis incident, identified as a ransomware attack named SamSam, affected over 200 victims including hospitals, \\nmunicipalities and public agencies as well as the port itself, inflicting $30 million in economic damage (U.S. \\nDepartment of Justice 2018). Two Iranians orchestrated the attack, which demanded ransom over Bitcoin. The \\ninvestigators of Federal Bureau of Investigation (FBI) consider such attacks to be highly sophisticated as well as \\nsupported by Iran as a state-sponsored cyberattack (ABS 2020; Senzee 2019).  \\n3.3. \\nNorth Korea \\nIn April 2016, South Korea announced that around 280 vessels were under a GPS jamming attack that forced \\nthe affected vessels to return to port (Graham 2017). South Korea claimed that this attack was organised by \\nNorth Korea. However, North Korea denied this claim (Saul 2017). Even if it cannot be verified with certainty \\nthat North Korea carried out this attack, investigations that revealed the complexity of the attack showed it to be \\nhighly sophisticated. Moreover, GPS jamming attacks cannot be carried out using a single computer but require \\nspecific technical equipment. For this reason, this incident was likely to be a state-sponsored attack. eLoran has \\nbeen developed against GPS jamming and spoofing attacks by South Korea (Cozzens 2020). \\n3.4. \\nRussia \\nOn 22 June 2017, a ship off the Novorossiysk-Russia shore notified the U.S. Coast Guard Navigation Center \\nabout a problem with GPS. According to the report, the ship’s GPS showed the wrong position, a problem that \\nalso affected more than 20 other vessels in the area. Figure 1 illustrates the spoofed vessel location and actual \\nvessel location in this incident. The ship’s GPS gave a position inland (near the Gelendyhik Airport), but the \\nvessel was drifting more than 25 NM (nautical mile) from the given coordinates. Various investigations revealed \\nthat this was a GPS spoofing cyberattack. Experts claimed that Russia had organised the attack to test the \\ndefence system against American missiles (Humphreys 2017; Goward 2017). \\nConference Proceedings of INEC\\n15th International Naval Engineering Conference & Exhibition\\nhttps://doi.org/10.24868/issn.2515-818X.2020.021\\n \\n  \\n \\nFigure 1: Actual and Spoofed Vessel Locations (C4ADS 2019) \\nGPS attacks, by their nature, cannot be carried out only with computers but require additional technical \\nequipment as mentioned above. Although the attack was not confirmed by the Russian government, it could be \\ninferred that the attack was state-sponsored, given the scope of the attack and the number of ships affected. \\nThis case that Russia supposedly created and that the press has reported is not an isolated one in terms of \\nsuch allegations. In 2019, the U.S.-based non-profit Center for Advanced Defence Studies (C4ADS) released a \\ncomprehensive report entitled ‘Above Us Only Stars’. This report estimated that a total of 1,311 civilian vessels \\nwere damaged by Global Navigation Satellite System (GNSS) spoofing attacks conducted by Russia between \\nFebruary 2016 and November 2018. As per C4ADS, such GNSS spoofing activities are potentially carried out \\nfor defensive reasons concerning strategic locations in Russia or for checking that country’s ability to attack \\n(C4ADS 2019). \\n3.5. \\nTurkey \\nAs per the researches, numerous hydrocarbon reserves may be located in the Mediterranean around the island \\nof Cyprus (Faustmann et al. 2012). In this sense, on 26 January 2007, the Greek Cypriot Southern Cyprus \\nAdministration (GCASC) separated the region identified as its own exclusive economic zone (EEZ) into 13 \\nzones and began licensing those zones to oil exploration firms (Arıdemir and Allı 2019). These firms thus \\nobtained the privilege to explore for hydrocarbons in the areas where they were licensed. However, several of \\nthe identified areas overlap with the Turkish continental shelf and the EEZ of the Turkish Republic of Northern \\nCyprus (TRNC). Figure 2 illustrates the EEZ claimed by the GCASC, the Turkish continental shelf alleged by \\nTurkey, the EEZ claimed by the TRNC and the disputed zones (Yilmaz 2019). \\n \\n \\nFigure 2: Disputed Zones and EEZs of the TRNC and the GCASC (Yilmaz 2019) \\nConference Proceedings of INEC\\n15th International Naval Engineering Conference & Exhibition\\nhttps://doi.org/10.24868/issn.2515-818X.2020.021\\n \\n  \\nThe Republic of Turkey never considered it acceptable to perform reserve research in the disputed regions. \\nFirst, on 17 March 2002, the Turkish Navy banned the ‘Northern Access’ research vessel from carrying out \\nseismic studies on the Turkish continental shelf, and the Turkish Navy imposed similar limitations in 2016 and \\n2018 (Ozkaya 2018). Ships of the Republic of Turkey, the ‘Yavuz’, ‘Fatih’ and ‘Barbaros Hayrettin Pasha’, are \\ncontinuing to conduct hydrocarbon exploration operations within the disputed areas around the island of Cyprus. \\nDuring 2018, multiple incidents involving GPS interference took place across the island of Cyprus. The \\nNATO Shipping Centre and U.S. Maritime Administration (MARAD) confirm these interruptions (U.S. \\nMaritime Administration 2018; NATO Shipping Center 2018). Figure 3 shows the GPS interference that has \\noccurred off Cyprus. (NATO Shipping Center 2018) \\n \\n \\nFigure 3: Area with GPS Interference (NATO Shipping Center 2018) \\nAdditionally, on the organisation’s website, the U.S. Coast Guard Navigation Center (USCG NAVCEN) \\nposts numerous GPS interference problems received in reports. Around 2018 and 2019, three GPS problems \\nwere recorded from the Cyprus region. No reason for two of these was identified, and they were reported as \\n‘Unknown Interference’ in the (USCG NAVCEN 2020) records. \\nThe Norwegian Shipowner’s Mutual War Risks Insurance report focuses on the probability of GPS \\ninterference occurring around the island of Cyprus caused by Turkey (2018 cited Denizcilik Bilgileri 2018). \\nConsidering together the records of USCG NAVCEN, MARAD and the NATO Shipping Centre from the year \\n2018, the absence of any clarification of the origin of most of the GPS problems encountered, the frequency of \\nGPS interference that generally occurred in the disputed area and the Turkish Navy’s interference towards the \\nresearch vessels, it is probable that the goal was to prevent the research vessels from performing hydrocarbon \\nresearch in the controversial region by disrupting GPS signals using a GPS jamming attack by the Republic of \\nTurkey. This possibility, though, remains to be admitted by the Republic of Turkey. \\n \\n \\nFigure 4: KORAL - Turkish Electronic Warfare Vehicle (Aselsan 2017) \\nConference Proceedings of INEC\\n15th International Naval Engineering Conference & Exhibition\\nhttps://doi.org/10.24868/issn.2515-818X.2020.021\\n \\n  \\n‘KORAL’, developed by Aselsan, has been used by the Turkish army for electronic warfare since 2016  \\n(Sabah 2016). Figure 4 shows photos of ‘KORAL’. This system has various capabilities, including launching a \\nGPS jamming attack. If the claim in 2018 was correct, KORAL must have been used in the attacks against the \\nresearch vessels in the vicinity of Cyprus. In 2019, another electronic warfare vehicle developed by Aselsan, \\ncalled ‘REDET-II’, was delivered to the Turkish army (C4Defence 2019).  \\n4. Findings \\nTwenty-two maritime cybersecurity incidents were detected between 2011 and 2019. Even though 17 of \\nthese were shore-based incidents, involving ports and shipping companies, five of them were attacks on vessels \\nat sea. However, it is highly probable that the attacks on vessels have been even more widespread than those \\nreported. Examination of USCG NAVCEN records found that between 4 February 2017 and 13 March 2020, 68 \\ncases involving GPS interference were recorded for marine-type devices. Of those 68 records, 56 were reported \\nas ‘Unknown Interference’ after investigation. In other words, no explanation was stated for these GPS-related \\ntroubles. \\nChina, Iran, North Korea, Russia and Turkey are alleged to have carried out attacks affecting the maritime \\nindustry. Russia is believed to be capable of carrying out GPS spoofing attacks. Turkey and North Korea are \\nsuspected of GPS jamming attacks. China and Iran are asserted to have the capacity to carry out shore-based \\ncyberattacks. \\nTurkey is allegedly accused of trying to blockade hydrocarbon exploration activities around the island of \\nCyprus, and Russia is alleged to be causing GPS interference for the intent of defence or researching electronic \\nwarfare technologies. \\nAny claims or state-sponsored allegations in incidents related to the maritime industry have not been \\naccepted by the countries so accused. \\nThe alleged state-sponsored ship attacks under consideration were limited to GPS. \\nIn 2012, the attack on the Danish Maritime Authority, allegedly planned by the Chinese government, was the \\nfirst to target a governmental organisation directly related to the maritime industry. \\nThe GPS jamming attack, which was supposedly carried out by North Korea in 2016 and impacted more than \\n280 vessels, came to light as the incident that affected the most vessels at one time. \\nBetween February 2016 and November 2018, a total of 1,311 civilian vessels’ navigation systems were \\nallegedly affected due to Russian-organised GNSS spoofing attacks. Taking into consideration the current \\nstatements, Russia appears to be the state behind most attacks on marine vessels. \\nThe attacks influence not only state institutions but also private industry and individuals. Since GPS attacks \\nthreaten a region, they impact all vessels in the subject area. In comparison, attacks against land facilities aim at \\nobtaining data or destroying a facility’s computer infrastructure. \\nCyber incident record for war ships are not available. It is likely that war ships are affected from cyber \\nincidents, however, these incidents are not disclosed by navies suffering such attacks. Leaders are likely \\ncovering up the attacks to avoid further damage publicly. \\n5. Conclusion \\nAdvances in technology have often influenced aggressor states’ methods of attack. Organisations or \\ngovernments can now hack information using cyberattacks without the requirement for a spy, or they can limit \\nships’ ability to navigate safely by removing GPS capability in an area. State-sponsored attacks threaten to exert \\na detrimental effect on merchant shipping, an impact likely to worsen if various states’ attack capabilities are \\nstrengthened over the coming years and more countries begin to participate in this activity. Added to the \\ndifficulty is the reality that states typically cover up such attacks. Throughout the research endeavour, attempts \\nwere made to collect information via e-mail and telephone from different organisations. The e-mails sent, \\nhowever, received either no answer or feedback saying that no details could be provided. Further research could \\nevaluate the efforts of states to counter possible cyberattacks impacting the maritime industry. An additional \\ntopic for investigation would be to examine how such attacks can affect merchant shipping and assess the \\ndetrimental impacts on the global supply chain. \\nAcknowledgements  \\nThis study was supported by the project ‘Maritime Cyber Resilience’ (MarCy) funded by the Research \\nCouncil of Norway. \\n \\nConference Proceedings of INEC\\n15th International Naval Engineering Conference & Exhibition\\nhttps://doi.org/10.24868/issn.2515-818X.2020.021\\n \\n  \\nReferences \\nABS, 2020. IMO 2021 cyber risk management guidelines - What to know and how to comply [PowerPoint \\npresentation]. \\nArıdemir, H., and Allı, C., 2019. An analysis of the exclusive economic zone debates in Eastern Mediterranean \\nregion. Journal of Economics Business and Political Researches, 4 (10), 188–202. Available from: \\nhttps://dergipark.org.tr/en/download/article-file/829290 [Accessed 4 May 2020]. \\nAselsan, 2017. KORAL mobil radar EH (elektronik harp) sistemi [online]. Available from: \\nhttps://www.aselsan.com.tr/1a8b7437-1ca0-4652-bd30-d71640c857b2.pdf [Accessed 22 July 2020]. \\nBateman, T., 2013. Police warn over drugs cyber-attack [online]. Available from: \\nhttps://www.bbc.com/news/world-europe-24539417 [Accessed 25 March 2020]. \\nBelmont, K.B., 2016. Cyber Cases in the Maritime Environment. \\nBIMCO, 2018. The guidelines on cyber security onboard ships. 3rd ed. \\nBlake, T., 2017. Hackers took ‘full control’ of container ship’s navigation systems for 10 hours - IHS Fairplay | \\nRNTF [online]. Available from: https://rntfnd.org/2017/11/25/hackers-took-full-control-of-container-ships-\\nnavigation-systems-for-10-hours-ihs-fairplay/ [Accessed 25 March 2020]. \\nBodeau, D.J., Graubart, R., and Fabius-Greene, J., 2010. Improving cyber security and mission assurance via \\ncyber preparedness (Cyber Prep) levels. International conference on social computing, 20-22 August 2010 \\nMinneapolis. \\nBrekke, E.F., et al., 2019. The Autosea project: Developing closed-loop target tracking and collision avoidance \\nsystems. Journal of Physics: Conference Series. \\nC4ADS, 2019. Above us only stars. Exposing GPS spoofing in Russia and Syria. \\nC4Defence, 2019. KORAL’a REDET-II desteği [online]. Available from: \\nhttps://www.c4defence.com/Arsiv/korala-redetii-destegi/8940/1 [Accessed 22 July 2020]. \\nChambers, S., 2020. London Offshore Consultants suffers ransomware attack [online]. Available from: \\nhttps://splash247.com/london-offshore-consultants-suffers-ransomware-attack/ [Accessed 25 March 2020]. \\nCoble, S., 2020. Carnival Cruise Lines hacked [online]. Available from: https://www.infosecurity-\\nmagazine.com/news/carnival-cruise-lines-hacked/ [Accessed 25 March 2020]. \\nCORDIS, 2020. ERA Chair in Maritime Cyber Security at Tallinn University of Technology [online]. Available \\nfrom: https://cordis.europa.eu/project/id/952360 [Accessed 21 August 2020]. \\nCozzens, T., 2020. UrsaNav installs eLoran testbed in South Korea [online]. Available from: \\nhttps://www.gpsworld.com/ursanav-installs-eloran-testbed-in-south-korea/ [Accessed 23 July 2020]. \\nCRISTIN, 2020. Maritime Cyber Resilience [online]. Available from: \\nhttps://app.cristin.no/projects/show.jsf?id=2057306 [Accessed 30 July 2020]. \\nCyber Keel, 2014. Maritime cyber-risks. \\nCyber-MAR, 2019. About [online]. Available from: https://www.cyber-mar.eu/about/ [Accessed 25 April 2020]. \\nDanish Maritime Cybersecurity Unit, 2019. Cyber and information strategy for the maritime sector 2019 - 2022 \\n[online]. Available from: \\nhttps://www.dma.dk/Documents/Publikationer/Cyber%20and%20Information%20Security%20Strategy%20f\\nor%20the%20Maritime%20Sector.pdf [Accessed 4 January 2020]. \\nDenizcilik Bilgileri, 2018. Türkiye GPS jammer ile Yunan araştırma gemilerini engelliyor mu? [online]. \\nAvailable from: https://www.denizcilikbilgileri.com/turkiye-gps-jammer-ile-yunan-arastirma-gemilerini-\\nengelliyor-mu/ [Accessed 4 February 2020]. \\nEastern Mediterranean Sea-GPS Interference, 2018 [online]. U.S. Maritime Administration. Available from: \\nhttps://www.maritime.dot.gov/content/2018-014-eastern-mediterranean-sea-gps-interference [Accessed 8 \\nApril 2020]. \\nElectronic interferences assesment, 2018 [online]. NATO Shipping Center. Available from: \\nhttps://shipping.nato.int/nsc/page10303037.aspx [Accessed 8 April 2020]. \\nConference Proceedings of INEC\\n15th International Naval Engineering Conference & Exhibition\\nhttps://doi.org/10.24868/issn.2515-818X.2020.021\\n \\n  \\nEsage, A., 2018. British shipping company Clarksons hacked [online]. Available from: \\nhttps://www.securitynewspaper.com/2018/08/02/british-shipping-company-clarksons-hacked/ [Accessed 26 \\nMarch 2020]. \\nEuropean Cybercrime Centre, 2013. Hackers deployed to facilitate drugs smuggling [online]. EC3. Available \\nfrom: https://www.europol.europa.eu/sites/default/files/documents/cyberbits_04_ocean13.pdf [Accessed 8 \\nMay 2020]. \\nFadilpašić, S., 2017. Shipping giant Maersk reveals $300 million cyber-attack loss [online]. Available from: \\nhttps://www.itproportal.com/news/maersk-lost-300-million-due-to-notpetya/ [Accessed 25 April 2020]. \\nFaustmann, H., Gurel, A., and Reichberg, G.M., eds., 2012. Cyprus Offshore Hydrocarbons: Regional Politics \\nand Wealth Distribution. Peace Research Institute. \\nGoward, D., 2017. Mass GPS Spoofing Attack in Black Sea? [online]. Available from: https://www.maritime-\\nexecutive.com/editorials/mass-gps-spoofing-attack-in-black-sea [Accessed 25 April 2020]. \\nGraham, L., 2017. Shipping industry vulnerable to cyber attacks and GPS jamming [online]. Available from: \\nhttps://www.cnbc.com/2017/02/01/shipping-industry-vulnerable-to-cyber-attacks-and-gps-jamming.html \\n[Accessed 23 March 2020]. \\nHumphreys, T., 2017. Ships fooled in GPS spoofing attack suggest Russian cyberweapon [online]. Available \\nfrom: https://www.newscientist.com/article/2143499-ships-fooled-in-gps-spoofing-attack-suggest-russian-\\ncyberweapon/ [Accessed 23 March 2020]. \\nHumphreys, T.E., et al., 2008. Assessing the spoofing threat: Development of a portable GPS civilian spoofer. \\nInternational technical meeting of the satellite division of the institute of navigation, 16-19 September 2008 \\nSavannah. \\nIMarEST, 2018. Ports of Barcelona and San Diego hit by cyber attacks [online]. Available from: \\nhttps://www.imarest.org/themarineprofessional/item/4473-ports-of-barcelona-and-san-diego-hit-by-cyber-\\nattacks [Accessed 13 April 2020]. \\nIMO, 2017. Resolution MSC.428(98). \\nISO, 2018. ISO/IEC 27000:2018(en) Information technology - security techniques - information security \\nmanagement systems. \\nKochetkova, K., 2015. Maritime industry is easy meat for cyber criminals [online]. Available from: \\nhttps://www.kaspersky.com/blog/maritime-cyber-security/8796/ [Accessed 25 March 2020]. \\nLeyden, J., 2018. Holy ship! UK shipping biz Clarksons blames megahack on single point of pwnage [online]. \\nAvailable from: https://www.theregister.co.uk/2018/08/01/clarksons_breach_update/ [Accessed 26 March \\n2020]. \\nLund, M.S., et al., 2018. Integrity of integrated navigation systems. Conference on communications and network \\nsecurity (CNS), 30 May - 1 June 2018 Beijing. \\nMaersk, 2017. Cyber attack update. \\nMaritime and Port Authority of Singapore, 2019. New 24/7 Maritime Cybersecurity Operations Centre to Boost \\nCyber Defence Readiness [online]. Available from: https://www.mpa.gov.sg/web/portal/home/media-\\ncentre/news-releases/mpa-news-releases/detail/8a5114cf-8214-4b46-8999-2c6c42433b1e [Accessed 25 April \\n2020]. \\nMaritime Executive, 2017. Ferry builder Austal hit by cyberattack [online]. Available from: \\nhttps://www.maritime-executive.com/article/ferry-builder-austal-hit-by-cyberattack [Accessed 25 March \\n2020]. \\nMohindru, S.C., 2017. Shipping: BW Group's computer systems hacked; steps up cyber security [online]. \\nAvailable from: https://www.spglobal.com/platts/en/market-insights/latest-news/shipping/101317-shipping-\\nbw-groups-computer-systems-hacked-steps-up-cyber-security [Accessed 25 March 2020]. \\nMUNIN, 2012. About MUNIN [online]. Available from: http://www.unmanned-ship.org/munin/ [Accessed 24 \\nApril 2020]. \\nConference Proceedings of INEC\\n15th International Naval Engineering Conference & Exhibition\\nhttps://doi.org/10.24868/issn.2515-818X.2020.021\\n \\n  \\nNgai, S., 2017. BW Group steps up cyber security after IT infringement – IHS Markit Safety at Sea [online]. \\nAvailable from: https://safetyatsea.net/news/2017/bw-group-steps-up-cyber-security-after-it-infringement/ \\n[Accessed 25 March 2020]. \\nOruc, A., 2019. Tanker industry is more ready against cyber threats. International conference on marine \\nengineering and technology, 5-7 November 2019 Muscat. \\nOzkaya, S., 2018. Doğu Akdeniz'de ısınan sular ve Kıbrıs denklemi [online]. Anadolu Agency. Available from: \\nhttps://www.aa.com.tr/tr/analiz-haber/dogu-akdeniz-de-isinan-sular-ve-kibris-denklemi/1278755 [Accessed 8 \\nMay 2020]. \\nSabah, 2016. KORAL TSK'ya teslim edildi [online]. Available from: \\nhttps://www.sabah.com.tr/galeri/turkiye/koral-tskya-teslim-edildi [Accessed 22 July 2020]. \\nSafety4Sea, 2019. UK marine services company hit by cyber attack [online]. Available from: \\nhttps://safety4sea.com/uk-marine-services-company-hit-by-cyber-attack/ [Accessed 22 March 2020]. \\nSafety4Sea, 2020. Data breach at UK yachting recruitment agency exposes 17,000 personal data [online]. \\nAvailable from: https://safety4sea.com/data-breach-at-uk-yachting-recruitment-agency-exposes-17000-\\npersonal-data/ [Accessed 22 March 2020]. \\nSaul, J., 2017. Cyber threats prompt return of radio for ship navigation [online]. Available from: \\nhttps://www.reuters.com/article/us-shipping-gps-cyber/cyber-threats-prompt-return-of-radio-for-ship-\\nnavigation-idUSKBN1AN0HT [Accessed 23 March 2020]. \\nSenzee, T., 2019. What happened in ransomware attack on Port of San Diego [online]. Available from: \\nhttps://www.sandiegoreader.com/news/2019/apr/10/city-lights-happened-ransomware-port-san-diego/ \\n[Accessed 13 April 2020]. \\nShauk, Z., 2013. Malware on oil rig computers raises security fears [online]. Available from: \\nhttps://www.houstonchronicle.com/business/energy/article/Malware-on-oil-rig-computers-raises-security-\\nfears-4301773.php [Accessed 25 March 2020]. \\nSophos, 2013. The A-Z of computer and data security threats. \\nThe Local, 2014. State-sponsored hackers spied on Denmark [online]. Available from: \\nhttps://www.thelocal.dk/20140922/denmark-was-hacked-by-state-sponsored-spies [Accessed 23 March \\n2020]. \\nTorbati, Y., and Saul, J., 2012. Iran's top cargo shipping line says sanctions damage mounting [online]. \\nAvailable from: https://www.reuters.com/article/us-iran-sanctions-shipping-idUSBRE89L10X20121022 \\n[Accessed 26 March 2020]. \\nTrend Micro, 2017. Ransomware [online]. Available from: \\nhttps://www.trendmicro.com/vinfo/us/security/definition/ransomware [Accessed 25 April 2020]. \\nTung, L., 2018. Maersk took just 10 days to replace 45,000 PCs wiped by NotPetya attack [online]. Available \\nfrom: https://www.csoonline.com/article/3514914/maersk-took-just-10-days-to-replace-45-000-pcs-wiped-\\nby-notpetya-attack.html [Accessed 26 March 2020]. \\nU.S. Department of Justice, 2018. Two Iranian men indicted for deploying ransomware to extort hospitals, \\nmunicipalities, and public institutions, causing over $30 million in losses [online]. Available from: \\nhttps://www.justice.gov/opa/pr/two-iranian-men-indicted-deploying-ransomware-extort-hospitals-\\nmunicipalities-and-public [Accessed 13 April 2020]. \\nUniversity of Rijeka, 2019. Cyber Security of Maritime ICT-Based Systems. Available from: \\nhttps://www.pfri.uniri.hr/web/en/projekti/aktivni/10-2019/2019-Svilicic-eng.pdf [Accessed 30 July 2020]. \\nUSCG NAVCEN, 2020. GPS problem reports status [online]. Available from: \\nhttps://navcen.uscg.gov/?Do=GPSReportStatus [Accessed 4 April 2020]. \\nVistiaho, P., 2017. Maritime cyber security incident data reporting for autonomous ships. Thesis (M.Sc.). \\nTampere University of Technology. \\nWMN, 2018a. COSCO Shipping Lines falls victim to cyber attack [online]. Available from: \\nhttps://worldmaritimenews.com/archives/257665/cosco-shipping-lines-falls-victim-to-cyber-attack/ \\n[Accessed 25 March 2020]. \\nConference Proceedings of INEC\\n15th International Naval Engineering Conference & Exhibition\\nhttps://doi.org/10.24868/issn.2515-818X.2020.021\\n \\n  \\nWMN, 2018b. Data theft affects hundreds of Svitzer Australia’s employees [online]. Available from: \\nhttps://worldmaritimenews.com/archives/247526/data-theft-affects-hundreds-of-svitzer-australias-\\nemployees/ [Accessed 25 March 2020]. \\nYara International, 2018. Yara Birkeland [online]. Available from: https://www.yara.com/knowledge-\\ngrows/game-changer-for-the-environment/ [Accessed 24 April 2020]. \\nYilmaz, T., 2019. Doğu Akdeniz'de GKRY için en akılcı seçenek iş birliği [online]. Anadolu Agency. Available \\nfrom: https://www.aa.com.tr/tr/turkiye/dogu-akdenizde-gkry-icin-en-akilci-secenek-is-birligi-/1488040 \\n[Accessed 4 May 2020]. \\nConference Proceedings of INEC\\n15th International Naval Engineering Conference & Exhibition\\nhttps://doi.org/10.24868/issn.2515-818X.2020.021\\n\"}}]"
      ]
     },
     "execution_count": 54,
     "metadata": {},
     "output_type": "execute_result"
    }
   ],
   "source": [
    "input_keyword = \"Kiesha\"\n",
    "vector_of_input_keyword = model.encode(input_keyword)\n",
    "\n",
    "query = {\n",
    "    \"field\" : \"content_vector\",\n",
    "    \"query_vector\" : vector_of_input_keyword,\n",
    "    \"k\" : 2,\n",
    "    \"num_candidates\" : 500, \n",
    "}\n",
    "\n",
    "res = es.knn_search(index=\"pdf_documents\", knn=query , source=[\"Name\",\"location\", \"content\"])\n",
    "res[\"hits\"][\"hits\"]"
   ]
  }
 ],
 "metadata": {
  "kernelspec": {
   "display_name": "localgpt",
   "language": "python",
   "name": "python3"
  },
  "language_info": {
   "codemirror_mode": {
    "name": "ipython",
    "version": 3
   },
   "file_extension": ".py",
   "mimetype": "text/x-python",
   "name": "python",
   "nbconvert_exporter": "python",
   "pygments_lexer": "ipython3",
   "version": "3.12.3"
  }
 },
 "nbformat": 4,
 "nbformat_minor": 2
}
